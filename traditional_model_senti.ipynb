{
  "nbformat": 4,
  "nbformat_minor": 0,
  "metadata": {
    "colab": {
      "provenance": [],
      "authorship_tag": "ABX9TyN6GpgScoa6hrJX/hjjndgU",
      "include_colab_link": true
    },
    "kernelspec": {
      "name": "python3",
      "display_name": "Python 3"
    },
    "language_info": {
      "name": "python"
    }
  },
  "cells": [
    {
      "cell_type": "markdown",
      "metadata": {
        "id": "view-in-github",
        "colab_type": "text"
      },
      "source": [
        "<a href=\"https://colab.research.google.com/github/RezaulKarim-506/research/blob/master/traditional_model_senti.ipynb\" target=\"_parent\"><img src=\"https://colab.research.google.com/assets/colab-badge.svg\" alt=\"Open In Colab\"/></a>"
      ]
    },
    {
      "cell_type": "code",
      "execution_count": null,
      "metadata": {
        "id": "YXQUr9mftmsi"
      },
      "outputs": [],
      "source": [
        "from google.colab import drive"
      ]
    },
    {
      "cell_type": "code",
      "source": [
        "drive.mount('/content/drive')"
      ],
      "metadata": {
        "colab": {
          "base_uri": "https://localhost:8080/"
        },
        "id": "0qNJa0o5uXR7",
        "outputId": "39ff2125-e566-4883-a49c-2dd118c0007c"
      },
      "execution_count": null,
      "outputs": [
        {
          "output_type": "stream",
          "name": "stdout",
          "text": [
            "Mounted at /content/drive\n"
          ]
        }
      ]
    },
    {
      "cell_type": "code",
      "source": [
        "import pandas as pd\n",
        "import seaborn as sns\n",
        "import re,json,nltk\n",
        "from sklearn.preprocessing import LabelEncoder\n",
        "from sklearn.feature_extraction.text import TfidfVectorizer\n",
        "from sklearn.model_selection import train_test_split\n",
        "from sklearn.metrics import classification_report,accuracy_score,precision_score,recall_score,f1_score\n",
        "from tensorflow.keras.preprocessing.text import Tokenizer"
      ],
      "metadata": {
        "id": "MNmDJROrulAV"
      },
      "execution_count": null,
      "outputs": []
    },
    {
      "cell_type": "code",
      "source": [
        "data = pd.read_csv('/content/drive/MyDrive/my_test_research/dataset_for_Bangla_as_text.csv',encoding = \"utf-16\", sep = \"\\t\")"
      ],
      "metadata": {
        "id": "Desi7z7hus4o"
      },
      "execution_count": null,
      "outputs": []
    },
    {
      "cell_type": "code",
      "source": [
        "path = '/content/drive/MyDrive/my_test_research/ml_performance'"
      ],
      "metadata": {
        "id": "lqqWZ6f-wU6m"
      },
      "execution_count": null,
      "outputs": []
    },
    {
      "cell_type": "code",
      "source": [
        "stopwords_list = path+'bangla_stopwords.txt'"
      ],
      "metadata": {
        "id": "fwSY86O9yRVx"
      },
      "execution_count": null,
      "outputs": []
    },
    {
      "cell_type": "code",
      "source": [
        "data.head()"
      ],
      "metadata": {
        "colab": {
          "base_uri": "https://localhost:8080/",
          "height": 206
        },
        "id": "bAwglTjAyYOc",
        "outputId": "2c09a991-b9fe-4f69-b96e-ac53de1cf5e6"
      },
      "execution_count": null,
      "outputs": [
        {
          "output_type": "execute_result",
          "data": {
            "text/plain": [
              "                                           Reviews    Feelings  Polarity\n",
              "0                      জমে উঠেছে গ্রুপ বি এর খেলা।  excitement  positive\n",
              "1  এখন খেলা হপ্পে, যে দল হারবে সেই দল বাদ পড়ে যাবে  excitement   neutral\n",
              "2                                     সব কয়টা সমান       other   neutral\n",
              "3                 সোজা হিসাব যে হারবে সেই বাদ পরবে         sad  positive\n",
              "4                                       হিসাব বরবর       other   neutral"
            ],
            "text/html": [
              "\n",
              "  <div id=\"df-f7443ffd-a129-443c-bf34-3032b0967574\">\n",
              "    <div class=\"colab-df-container\">\n",
              "      <div>\n",
              "<style scoped>\n",
              "    .dataframe tbody tr th:only-of-type {\n",
              "        vertical-align: middle;\n",
              "    }\n",
              "\n",
              "    .dataframe tbody tr th {\n",
              "        vertical-align: top;\n",
              "    }\n",
              "\n",
              "    .dataframe thead th {\n",
              "        text-align: right;\n",
              "    }\n",
              "</style>\n",
              "<table border=\"1\" class=\"dataframe\">\n",
              "  <thead>\n",
              "    <tr style=\"text-align: right;\">\n",
              "      <th></th>\n",
              "      <th>Reviews</th>\n",
              "      <th>Feelings</th>\n",
              "      <th>Polarity</th>\n",
              "    </tr>\n",
              "  </thead>\n",
              "  <tbody>\n",
              "    <tr>\n",
              "      <th>0</th>\n",
              "      <td>জমে উঠেছে গ্রুপ বি এর খেলা।</td>\n",
              "      <td>excitement</td>\n",
              "      <td>positive</td>\n",
              "    </tr>\n",
              "    <tr>\n",
              "      <th>1</th>\n",
              "      <td>এখন খেলা হপ্পে, যে দল হারবে সেই দল বাদ পড়ে যাবে</td>\n",
              "      <td>excitement</td>\n",
              "      <td>neutral</td>\n",
              "    </tr>\n",
              "    <tr>\n",
              "      <th>2</th>\n",
              "      <td>সব কয়টা সমান</td>\n",
              "      <td>other</td>\n",
              "      <td>neutral</td>\n",
              "    </tr>\n",
              "    <tr>\n",
              "      <th>3</th>\n",
              "      <td>সোজা হিসাব যে হারবে সেই বাদ পরবে</td>\n",
              "      <td>sad</td>\n",
              "      <td>positive</td>\n",
              "    </tr>\n",
              "    <tr>\n",
              "      <th>4</th>\n",
              "      <td>হিসাব বরবর</td>\n",
              "      <td>other</td>\n",
              "      <td>neutral</td>\n",
              "    </tr>\n",
              "  </tbody>\n",
              "</table>\n",
              "</div>\n",
              "      <button class=\"colab-df-convert\" onclick=\"convertToInteractive('df-f7443ffd-a129-443c-bf34-3032b0967574')\"\n",
              "              title=\"Convert this dataframe to an interactive table.\"\n",
              "              style=\"display:none;\">\n",
              "        \n",
              "  <svg xmlns=\"http://www.w3.org/2000/svg\" height=\"24px\"viewBox=\"0 0 24 24\"\n",
              "       width=\"24px\">\n",
              "    <path d=\"M0 0h24v24H0V0z\" fill=\"none\"/>\n",
              "    <path d=\"M18.56 5.44l.94 2.06.94-2.06 2.06-.94-2.06-.94-.94-2.06-.94 2.06-2.06.94zm-11 1L8.5 8.5l.94-2.06 2.06-.94-2.06-.94L8.5 2.5l-.94 2.06-2.06.94zm10 10l.94 2.06.94-2.06 2.06-.94-2.06-.94-.94-2.06-.94 2.06-2.06.94z\"/><path d=\"M17.41 7.96l-1.37-1.37c-.4-.4-.92-.59-1.43-.59-.52 0-1.04.2-1.43.59L10.3 9.45l-7.72 7.72c-.78.78-.78 2.05 0 2.83L4 21.41c.39.39.9.59 1.41.59.51 0 1.02-.2 1.41-.59l7.78-7.78 2.81-2.81c.8-.78.8-2.07 0-2.86zM5.41 20L4 18.59l7.72-7.72 1.47 1.35L5.41 20z\"/>\n",
              "  </svg>\n",
              "      </button>\n",
              "      \n",
              "  <style>\n",
              "    .colab-df-container {\n",
              "      display:flex;\n",
              "      flex-wrap:wrap;\n",
              "      gap: 12px;\n",
              "    }\n",
              "\n",
              "    .colab-df-convert {\n",
              "      background-color: #E8F0FE;\n",
              "      border: none;\n",
              "      border-radius: 50%;\n",
              "      cursor: pointer;\n",
              "      display: none;\n",
              "      fill: #1967D2;\n",
              "      height: 32px;\n",
              "      padding: 0 0 0 0;\n",
              "      width: 32px;\n",
              "    }\n",
              "\n",
              "    .colab-df-convert:hover {\n",
              "      background-color: #E2EBFA;\n",
              "      box-shadow: 0px 1px 2px rgba(60, 64, 67, 0.3), 0px 1px 3px 1px rgba(60, 64, 67, 0.15);\n",
              "      fill: #174EA6;\n",
              "    }\n",
              "\n",
              "    [theme=dark] .colab-df-convert {\n",
              "      background-color: #3B4455;\n",
              "      fill: #D2E3FC;\n",
              "    }\n",
              "\n",
              "    [theme=dark] .colab-df-convert:hover {\n",
              "      background-color: #434B5C;\n",
              "      box-shadow: 0px 1px 3px 1px rgba(0, 0, 0, 0.15);\n",
              "      filter: drop-shadow(0px 1px 2px rgba(0, 0, 0, 0.3));\n",
              "      fill: #FFFFFF;\n",
              "    }\n",
              "  </style>\n",
              "\n",
              "      <script>\n",
              "        const buttonEl =\n",
              "          document.querySelector('#df-f7443ffd-a129-443c-bf34-3032b0967574 button.colab-df-convert');\n",
              "        buttonEl.style.display =\n",
              "          google.colab.kernel.accessAllowed ? 'block' : 'none';\n",
              "\n",
              "        async function convertToInteractive(key) {\n",
              "          const element = document.querySelector('#df-f7443ffd-a129-443c-bf34-3032b0967574');\n",
              "          const dataTable =\n",
              "            await google.colab.kernel.invokeFunction('convertToInteractive',\n",
              "                                                     [key], {});\n",
              "          if (!dataTable) return;\n",
              "\n",
              "          const docLinkHtml = 'Like what you see? Visit the ' +\n",
              "            '<a target=\"_blank\" href=https://colab.research.google.com/notebooks/data_table.ipynb>data table notebook</a>'\n",
              "            + ' to learn more about interactive tables.';\n",
              "          element.innerHTML = '';\n",
              "          dataTable['output_type'] = 'display_data';\n",
              "          await google.colab.output.renderOutput(dataTable, element);\n",
              "          const docLink = document.createElement('div');\n",
              "          docLink.innerHTML = docLinkHtml;\n",
              "          element.appendChild(docLink);\n",
              "        }\n",
              "      </script>\n",
              "    </div>\n",
              "  </div>\n",
              "  "
            ]
          },
          "metadata": {},
          "execution_count": 23
        }
      ]
    },
    {
      "cell_type": "code",
      "source": [
        "data"
      ],
      "metadata": {
        "colab": {
          "base_uri": "https://localhost:8080/",
          "height": 424
        },
        "id": "R7eLP1tAyb8k",
        "outputId": "cf76a92c-671f-4406-a12b-cf47caa101e9"
      },
      "execution_count": null,
      "outputs": [
        {
          "output_type": "execute_result",
          "data": {
            "text/plain": [
              "                                                Reviews    Feelings  Polarity\n",
              "0                           জমে উঠেছে গ্রুপ বি এর খেলা।  excitement  positive\n",
              "1       এখন খেলা হপ্পে, যে দল হারবে সেই দল বাদ পড়ে যাবে  excitement   neutral\n",
              "2                                          সব কয়টা সমান       other   neutral\n",
              "3                      সোজা হিসাব যে হারবে সেই বাদ পরবে         sad  positive\n",
              "4                                            হিসাব বরবর       other   neutral\n",
              "...                                                 ...         ...       ...\n",
              "4996  জাতীয় দলে এনে রানের ফোয়াড়া বন্ধ করার জন্য কতৃপ...         sad  positive\n",
              "4997                   যেমন বোলার তেমন ব্যাটসম্যান.....       happy  positive\n",
              "4998                     টেস্ট ও ওডিআই এর জন্য ঠিক আছে।       other   neutral\n",
              "4999            রানের ফোয়ারা শুধু ঘরোয় পরিবেশেই সম্ভব       happy  negative\n",
              "5000                                                NaN         NaN       NaN\n",
              "\n",
              "[5001 rows x 3 columns]"
            ],
            "text/html": [
              "\n",
              "  <div id=\"df-dc451149-263a-4f65-952d-c7366f6d26f5\">\n",
              "    <div class=\"colab-df-container\">\n",
              "      <div>\n",
              "<style scoped>\n",
              "    .dataframe tbody tr th:only-of-type {\n",
              "        vertical-align: middle;\n",
              "    }\n",
              "\n",
              "    .dataframe tbody tr th {\n",
              "        vertical-align: top;\n",
              "    }\n",
              "\n",
              "    .dataframe thead th {\n",
              "        text-align: right;\n",
              "    }\n",
              "</style>\n",
              "<table border=\"1\" class=\"dataframe\">\n",
              "  <thead>\n",
              "    <tr style=\"text-align: right;\">\n",
              "      <th></th>\n",
              "      <th>Reviews</th>\n",
              "      <th>Feelings</th>\n",
              "      <th>Polarity</th>\n",
              "    </tr>\n",
              "  </thead>\n",
              "  <tbody>\n",
              "    <tr>\n",
              "      <th>0</th>\n",
              "      <td>জমে উঠেছে গ্রুপ বি এর খেলা।</td>\n",
              "      <td>excitement</td>\n",
              "      <td>positive</td>\n",
              "    </tr>\n",
              "    <tr>\n",
              "      <th>1</th>\n",
              "      <td>এখন খেলা হপ্পে, যে দল হারবে সেই দল বাদ পড়ে যাবে</td>\n",
              "      <td>excitement</td>\n",
              "      <td>neutral</td>\n",
              "    </tr>\n",
              "    <tr>\n",
              "      <th>2</th>\n",
              "      <td>সব কয়টা সমান</td>\n",
              "      <td>other</td>\n",
              "      <td>neutral</td>\n",
              "    </tr>\n",
              "    <tr>\n",
              "      <th>3</th>\n",
              "      <td>সোজা হিসাব যে হারবে সেই বাদ পরবে</td>\n",
              "      <td>sad</td>\n",
              "      <td>positive</td>\n",
              "    </tr>\n",
              "    <tr>\n",
              "      <th>4</th>\n",
              "      <td>হিসাব বরবর</td>\n",
              "      <td>other</td>\n",
              "      <td>neutral</td>\n",
              "    </tr>\n",
              "    <tr>\n",
              "      <th>...</th>\n",
              "      <td>...</td>\n",
              "      <td>...</td>\n",
              "      <td>...</td>\n",
              "    </tr>\n",
              "    <tr>\n",
              "      <th>4996</th>\n",
              "      <td>জাতীয় দলে এনে রানের ফোয়াড়া বন্ধ করার জন্য কতৃপ...</td>\n",
              "      <td>sad</td>\n",
              "      <td>positive</td>\n",
              "    </tr>\n",
              "    <tr>\n",
              "      <th>4997</th>\n",
              "      <td>যেমন বোলার তেমন ব্যাটসম্যান.....</td>\n",
              "      <td>happy</td>\n",
              "      <td>positive</td>\n",
              "    </tr>\n",
              "    <tr>\n",
              "      <th>4998</th>\n",
              "      <td>টেস্ট ও ওডিআই এর জন্য ঠিক আছে।</td>\n",
              "      <td>other</td>\n",
              "      <td>neutral</td>\n",
              "    </tr>\n",
              "    <tr>\n",
              "      <th>4999</th>\n",
              "      <td>রানের ফোয়ারা শুধু ঘরোয় পরিবেশেই সম্ভব</td>\n",
              "      <td>happy</td>\n",
              "      <td>negative</td>\n",
              "    </tr>\n",
              "    <tr>\n",
              "      <th>5000</th>\n",
              "      <td>NaN</td>\n",
              "      <td>NaN</td>\n",
              "      <td>NaN</td>\n",
              "    </tr>\n",
              "  </tbody>\n",
              "</table>\n",
              "<p>5001 rows × 3 columns</p>\n",
              "</div>\n",
              "      <button class=\"colab-df-convert\" onclick=\"convertToInteractive('df-dc451149-263a-4f65-952d-c7366f6d26f5')\"\n",
              "              title=\"Convert this dataframe to an interactive table.\"\n",
              "              style=\"display:none;\">\n",
              "        \n",
              "  <svg xmlns=\"http://www.w3.org/2000/svg\" height=\"24px\"viewBox=\"0 0 24 24\"\n",
              "       width=\"24px\">\n",
              "    <path d=\"M0 0h24v24H0V0z\" fill=\"none\"/>\n",
              "    <path d=\"M18.56 5.44l.94 2.06.94-2.06 2.06-.94-2.06-.94-.94-2.06-.94 2.06-2.06.94zm-11 1L8.5 8.5l.94-2.06 2.06-.94-2.06-.94L8.5 2.5l-.94 2.06-2.06.94zm10 10l.94 2.06.94-2.06 2.06-.94-2.06-.94-.94-2.06-.94 2.06-2.06.94z\"/><path d=\"M17.41 7.96l-1.37-1.37c-.4-.4-.92-.59-1.43-.59-.52 0-1.04.2-1.43.59L10.3 9.45l-7.72 7.72c-.78.78-.78 2.05 0 2.83L4 21.41c.39.39.9.59 1.41.59.51 0 1.02-.2 1.41-.59l7.78-7.78 2.81-2.81c.8-.78.8-2.07 0-2.86zM5.41 20L4 18.59l7.72-7.72 1.47 1.35L5.41 20z\"/>\n",
              "  </svg>\n",
              "      </button>\n",
              "      \n",
              "  <style>\n",
              "    .colab-df-container {\n",
              "      display:flex;\n",
              "      flex-wrap:wrap;\n",
              "      gap: 12px;\n",
              "    }\n",
              "\n",
              "    .colab-df-convert {\n",
              "      background-color: #E8F0FE;\n",
              "      border: none;\n",
              "      border-radius: 50%;\n",
              "      cursor: pointer;\n",
              "      display: none;\n",
              "      fill: #1967D2;\n",
              "      height: 32px;\n",
              "      padding: 0 0 0 0;\n",
              "      width: 32px;\n",
              "    }\n",
              "\n",
              "    .colab-df-convert:hover {\n",
              "      background-color: #E2EBFA;\n",
              "      box-shadow: 0px 1px 2px rgba(60, 64, 67, 0.3), 0px 1px 3px 1px rgba(60, 64, 67, 0.15);\n",
              "      fill: #174EA6;\n",
              "    }\n",
              "\n",
              "    [theme=dark] .colab-df-convert {\n",
              "      background-color: #3B4455;\n",
              "      fill: #D2E3FC;\n",
              "    }\n",
              "\n",
              "    [theme=dark] .colab-df-convert:hover {\n",
              "      background-color: #434B5C;\n",
              "      box-shadow: 0px 1px 3px 1px rgba(0, 0, 0, 0.15);\n",
              "      filter: drop-shadow(0px 1px 2px rgba(0, 0, 0, 0.3));\n",
              "      fill: #FFFFFF;\n",
              "    }\n",
              "  </style>\n",
              "\n",
              "      <script>\n",
              "        const buttonEl =\n",
              "          document.querySelector('#df-dc451149-263a-4f65-952d-c7366f6d26f5 button.colab-df-convert');\n",
              "        buttonEl.style.display =\n",
              "          google.colab.kernel.accessAllowed ? 'block' : 'none';\n",
              "\n",
              "        async function convertToInteractive(key) {\n",
              "          const element = document.querySelector('#df-dc451149-263a-4f65-952d-c7366f6d26f5');\n",
              "          const dataTable =\n",
              "            await google.colab.kernel.invokeFunction('convertToInteractive',\n",
              "                                                     [key], {});\n",
              "          if (!dataTable) return;\n",
              "\n",
              "          const docLinkHtml = 'Like what you see? Visit the ' +\n",
              "            '<a target=\"_blank\" href=https://colab.research.google.com/notebooks/data_table.ipynb>data table notebook</a>'\n",
              "            + ' to learn more about interactive tables.';\n",
              "          element.innerHTML = '';\n",
              "          dataTable['output_type'] = 'display_data';\n",
              "          await google.colab.output.renderOutput(dataTable, element);\n",
              "          const docLink = document.createElement('div');\n",
              "          docLink.innerHTML = docLinkHtml;\n",
              "          element.appendChild(docLink);\n",
              "        }\n",
              "      </script>\n",
              "    </div>\n",
              "  </div>\n",
              "  "
            ]
          },
          "metadata": {},
          "execution_count": 24
        }
      ]
    },
    {
      "cell_type": "code",
      "source": [
        "# drop all rows that have NaN/None values\n",
        "data=data.dropna()\n",
        "print(data)"
      ],
      "metadata": {
        "colab": {
          "base_uri": "https://localhost:8080/"
        },
        "id": "bVk71-Nbyhi8",
        "outputId": "fed5eb78-c5f3-4d38-ca63-38f504325023"
      },
      "execution_count": null,
      "outputs": [
        {
          "output_type": "stream",
          "name": "stdout",
          "text": [
            "                                                Reviews    Feelings  Polarity\n",
            "0                           জমে উঠেছে গ্রুপ বি এর খেলা।  excitement  positive\n",
            "1       এখন খেলা হপ্পে, যে দল হারবে সেই দল বাদ পড়ে যাবে  excitement   neutral\n",
            "2                                          সব কয়টা সমান       other   neutral\n",
            "3                      সোজা হিসাব যে হারবে সেই বাদ পরবে         sad  positive\n",
            "4                                            হিসাব বরবর       other   neutral\n",
            "...                                                 ...         ...       ...\n",
            "4995        এত এত হেডলাইন করে লাভ অাছে স্কোয়াডে না নিয়ে         sad  negative\n",
            "4996  জাতীয় দলে এনে রানের ফোয়াড়া বন্ধ করার জন্য কতৃপ...         sad  positive\n",
            "4997                   যেমন বোলার তেমন ব্যাটসম্যান.....       happy  positive\n",
            "4998                     টেস্ট ও ওডিআই এর জন্য ঠিক আছে।       other   neutral\n",
            "4999            রানের ফোয়ারা শুধু ঘরোয় পরিবেশেই সম্ভব       happy  negative\n",
            "\n",
            "[4997 rows x 3 columns]\n"
          ]
        }
      ]
    },
    {
      "cell_type": "code",
      "source": [
        "data"
      ],
      "metadata": {
        "colab": {
          "base_uri": "https://localhost:8080/",
          "height": 424
        },
        "id": "4mL3yuj0yn0Z",
        "outputId": "968fac68-464c-4802-abca-b66e32019b6e"
      },
      "execution_count": null,
      "outputs": [
        {
          "output_type": "execute_result",
          "data": {
            "text/plain": [
              "                                                Reviews    Feelings  Polarity\n",
              "0                           জমে উঠেছে গ্রুপ বি এর খেলা।  excitement  positive\n",
              "1       এখন খেলা হপ্পে, যে দল হারবে সেই দল বাদ পড়ে যাবে  excitement   neutral\n",
              "2                                          সব কয়টা সমান       other   neutral\n",
              "3                      সোজা হিসাব যে হারবে সেই বাদ পরবে         sad  positive\n",
              "4                                            হিসাব বরবর       other   neutral\n",
              "...                                                 ...         ...       ...\n",
              "4995        এত এত হেডলাইন করে লাভ অাছে স্কোয়াডে না নিয়ে         sad  negative\n",
              "4996  জাতীয় দলে এনে রানের ফোয়াড়া বন্ধ করার জন্য কতৃপ...         sad  positive\n",
              "4997                   যেমন বোলার তেমন ব্যাটসম্যান.....       happy  positive\n",
              "4998                     টেস্ট ও ওডিআই এর জন্য ঠিক আছে।       other   neutral\n",
              "4999            রানের ফোয়ারা শুধু ঘরোয় পরিবেশেই সম্ভব       happy  negative\n",
              "\n",
              "[4997 rows x 3 columns]"
            ],
            "text/html": [
              "\n",
              "  <div id=\"df-b4083e19-ef90-44c1-a80a-57a5bd6b5f56\">\n",
              "    <div class=\"colab-df-container\">\n",
              "      <div>\n",
              "<style scoped>\n",
              "    .dataframe tbody tr th:only-of-type {\n",
              "        vertical-align: middle;\n",
              "    }\n",
              "\n",
              "    .dataframe tbody tr th {\n",
              "        vertical-align: top;\n",
              "    }\n",
              "\n",
              "    .dataframe thead th {\n",
              "        text-align: right;\n",
              "    }\n",
              "</style>\n",
              "<table border=\"1\" class=\"dataframe\">\n",
              "  <thead>\n",
              "    <tr style=\"text-align: right;\">\n",
              "      <th></th>\n",
              "      <th>Reviews</th>\n",
              "      <th>Feelings</th>\n",
              "      <th>Polarity</th>\n",
              "    </tr>\n",
              "  </thead>\n",
              "  <tbody>\n",
              "    <tr>\n",
              "      <th>0</th>\n",
              "      <td>জমে উঠেছে গ্রুপ বি এর খেলা।</td>\n",
              "      <td>excitement</td>\n",
              "      <td>positive</td>\n",
              "    </tr>\n",
              "    <tr>\n",
              "      <th>1</th>\n",
              "      <td>এখন খেলা হপ্পে, যে দল হারবে সেই দল বাদ পড়ে যাবে</td>\n",
              "      <td>excitement</td>\n",
              "      <td>neutral</td>\n",
              "    </tr>\n",
              "    <tr>\n",
              "      <th>2</th>\n",
              "      <td>সব কয়টা সমান</td>\n",
              "      <td>other</td>\n",
              "      <td>neutral</td>\n",
              "    </tr>\n",
              "    <tr>\n",
              "      <th>3</th>\n",
              "      <td>সোজা হিসাব যে হারবে সেই বাদ পরবে</td>\n",
              "      <td>sad</td>\n",
              "      <td>positive</td>\n",
              "    </tr>\n",
              "    <tr>\n",
              "      <th>4</th>\n",
              "      <td>হিসাব বরবর</td>\n",
              "      <td>other</td>\n",
              "      <td>neutral</td>\n",
              "    </tr>\n",
              "    <tr>\n",
              "      <th>...</th>\n",
              "      <td>...</td>\n",
              "      <td>...</td>\n",
              "      <td>...</td>\n",
              "    </tr>\n",
              "    <tr>\n",
              "      <th>4995</th>\n",
              "      <td>এত এত হেডলাইন করে লাভ অাছে স্কোয়াডে না নিয়ে</td>\n",
              "      <td>sad</td>\n",
              "      <td>negative</td>\n",
              "    </tr>\n",
              "    <tr>\n",
              "      <th>4996</th>\n",
              "      <td>জাতীয় দলে এনে রানের ফোয়াড়া বন্ধ করার জন্য কতৃপ...</td>\n",
              "      <td>sad</td>\n",
              "      <td>positive</td>\n",
              "    </tr>\n",
              "    <tr>\n",
              "      <th>4997</th>\n",
              "      <td>যেমন বোলার তেমন ব্যাটসম্যান.....</td>\n",
              "      <td>happy</td>\n",
              "      <td>positive</td>\n",
              "    </tr>\n",
              "    <tr>\n",
              "      <th>4998</th>\n",
              "      <td>টেস্ট ও ওডিআই এর জন্য ঠিক আছে।</td>\n",
              "      <td>other</td>\n",
              "      <td>neutral</td>\n",
              "    </tr>\n",
              "    <tr>\n",
              "      <th>4999</th>\n",
              "      <td>রানের ফোয়ারা শুধু ঘরোয় পরিবেশেই সম্ভব</td>\n",
              "      <td>happy</td>\n",
              "      <td>negative</td>\n",
              "    </tr>\n",
              "  </tbody>\n",
              "</table>\n",
              "<p>4997 rows × 3 columns</p>\n",
              "</div>\n",
              "      <button class=\"colab-df-convert\" onclick=\"convertToInteractive('df-b4083e19-ef90-44c1-a80a-57a5bd6b5f56')\"\n",
              "              title=\"Convert this dataframe to an interactive table.\"\n",
              "              style=\"display:none;\">\n",
              "        \n",
              "  <svg xmlns=\"http://www.w3.org/2000/svg\" height=\"24px\"viewBox=\"0 0 24 24\"\n",
              "       width=\"24px\">\n",
              "    <path d=\"M0 0h24v24H0V0z\" fill=\"none\"/>\n",
              "    <path d=\"M18.56 5.44l.94 2.06.94-2.06 2.06-.94-2.06-.94-.94-2.06-.94 2.06-2.06.94zm-11 1L8.5 8.5l.94-2.06 2.06-.94-2.06-.94L8.5 2.5l-.94 2.06-2.06.94zm10 10l.94 2.06.94-2.06 2.06-.94-2.06-.94-.94-2.06-.94 2.06-2.06.94z\"/><path d=\"M17.41 7.96l-1.37-1.37c-.4-.4-.92-.59-1.43-.59-.52 0-1.04.2-1.43.59L10.3 9.45l-7.72 7.72c-.78.78-.78 2.05 0 2.83L4 21.41c.39.39.9.59 1.41.59.51 0 1.02-.2 1.41-.59l7.78-7.78 2.81-2.81c.8-.78.8-2.07 0-2.86zM5.41 20L4 18.59l7.72-7.72 1.47 1.35L5.41 20z\"/>\n",
              "  </svg>\n",
              "      </button>\n",
              "      \n",
              "  <style>\n",
              "    .colab-df-container {\n",
              "      display:flex;\n",
              "      flex-wrap:wrap;\n",
              "      gap: 12px;\n",
              "    }\n",
              "\n",
              "    .colab-df-convert {\n",
              "      background-color: #E8F0FE;\n",
              "      border: none;\n",
              "      border-radius: 50%;\n",
              "      cursor: pointer;\n",
              "      display: none;\n",
              "      fill: #1967D2;\n",
              "      height: 32px;\n",
              "      padding: 0 0 0 0;\n",
              "      width: 32px;\n",
              "    }\n",
              "\n",
              "    .colab-df-convert:hover {\n",
              "      background-color: #E2EBFA;\n",
              "      box-shadow: 0px 1px 2px rgba(60, 64, 67, 0.3), 0px 1px 3px 1px rgba(60, 64, 67, 0.15);\n",
              "      fill: #174EA6;\n",
              "    }\n",
              "\n",
              "    [theme=dark] .colab-df-convert {\n",
              "      background-color: #3B4455;\n",
              "      fill: #D2E3FC;\n",
              "    }\n",
              "\n",
              "    [theme=dark] .colab-df-convert:hover {\n",
              "      background-color: #434B5C;\n",
              "      box-shadow: 0px 1px 3px 1px rgba(0, 0, 0, 0.15);\n",
              "      filter: drop-shadow(0px 1px 2px rgba(0, 0, 0, 0.3));\n",
              "      fill: #FFFFFF;\n",
              "    }\n",
              "  </style>\n",
              "\n",
              "      <script>\n",
              "        const buttonEl =\n",
              "          document.querySelector('#df-b4083e19-ef90-44c1-a80a-57a5bd6b5f56 button.colab-df-convert');\n",
              "        buttonEl.style.display =\n",
              "          google.colab.kernel.accessAllowed ? 'block' : 'none';\n",
              "\n",
              "        async function convertToInteractive(key) {\n",
              "          const element = document.querySelector('#df-b4083e19-ef90-44c1-a80a-57a5bd6b5f56');\n",
              "          const dataTable =\n",
              "            await google.colab.kernel.invokeFunction('convertToInteractive',\n",
              "                                                     [key], {});\n",
              "          if (!dataTable) return;\n",
              "\n",
              "          const docLinkHtml = 'Like what you see? Visit the ' +\n",
              "            '<a target=\"_blank\" href=https://colab.research.google.com/notebooks/data_table.ipynb>data table notebook</a>'\n",
              "            + ' to learn more about interactive tables.';\n",
              "          element.innerHTML = '';\n",
              "          dataTable['output_type'] = 'display_data';\n",
              "          await google.colab.output.renderOutput(dataTable, element);\n",
              "          const docLink = document.createElement('div');\n",
              "          docLink.innerHTML = docLinkHtml;\n",
              "          element.appendChild(docLink);\n",
              "        }\n",
              "      </script>\n",
              "    </div>\n",
              "  </div>\n",
              "  "
            ]
          },
          "metadata": {},
          "execution_count": 26
        }
      ]
    },
    {
      "cell_type": "code",
      "source": [
        "data.shape"
      ],
      "metadata": {
        "colab": {
          "base_uri": "https://localhost:8080/"
        },
        "id": "mxcfZc0Byq5x",
        "outputId": "d3743a50-6fdf-4950-ca9d-6571dc501691"
      },
      "execution_count": null,
      "outputs": [
        {
          "output_type": "execute_result",
          "data": {
            "text/plain": [
              "(4997, 3)"
            ]
          },
          "metadata": {},
          "execution_count": 27
        }
      ]
    },
    {
      "cell_type": "code",
      "source": [
        "import seaborn as sns\n",
        "import matplotlib.pyplot as plt\n",
        "sns.set(font_scale=1.4)\n",
        "data['Polarity'].value_counts().plot(kind='barh', figsize=(9, 3))\n",
        "plt.xlabel(\"Number of Texts\", labelpad=12)\n",
        "plt.ylabel(\"Polarity\", labelpad=12)\n",
        "plt.yticks(rotation = 45)\n",
        "plt.title(\"Dataset Distribution\", y=1.02);"
      ],
      "metadata": {
        "colab": {
          "base_uri": "https://localhost:8080/",
          "height": 272
        },
        "id": "EQbjoxloyv1p",
        "outputId": "94a8ddb0-191d-4975-da85-4f206d2becf0"
      },
      "execution_count": null,
      "outputs": [
        {
          "output_type": "display_data",
          "data": {
            "text/plain": [
              "<Figure size 648x216 with 1 Axes>"
            ],
            "image/png": "[encoded data removed]"
          },
          "metadata": {}
        }
      ]
    },
    {
      "cell_type": "markdown",
      "source": [
        "Data Cleaning"
      ],
      "metadata": {
        "id": "1p6QOXwdy9Sd"
      }
    },
    {
      "cell_type": "code",
      "source": [
        "import re,json,nltk\n",
        "import string\n",
        "def process_comments(Reviews): \n",
        "    Reviews = re.sub('[^\\u0980-\\u09FF]',' ',str(Reviews)) #removing unnecessary punctuation\n",
        "    stop_words = open(\"/content/drive/MyDrive/my_test_research/bangla_stopwords.txt\",encoding='utf=8').read().split('\\n')\n",
        "    tokens = re.split('\\s+',Reviews)\n",
        "    Reviews = \" \".join(word for word in tokens if word not in stop_words)\n",
        "    return Reviews"
      ],
      "metadata": {
        "id": "Bj3bfGHOy_5B"
      },
      "execution_count": null,
      "outputs": []
    },
    {
      "cell_type": "code",
      "source": [
        "# Apply the function into the dataframe\n",
        "data['cleaned'] = data['Reviews'].apply(process_comments)  \n",
        "print('Original:\\n',data.Reviews,'\\nCleaned:\\n',data.cleaned,'\\n')\n"
      ],
      "metadata": {
        "colab": {
          "base_uri": "https://localhost:8080/"
        },
        "id": "EwV6ePxKzO9I",
        "outputId": "dbdabb2a-dbb4-4ff5-cbfd-9a5f9733587e"
      },
      "execution_count": null,
      "outputs": [
        {
          "output_type": "stream",
          "name": "stdout",
          "text": [
            "Original:\n",
            " 0                             জমে উঠেছে গ্রুপ বি এর খেলা।\n",
            "1         এখন খেলা হপ্পে, যে দল হারবে সেই দল বাদ পড়ে যাবে\n",
            "2                                            সব কয়টা সমান\n",
            "3                        সোজা হিসাব যে হারবে সেই বাদ পরবে\n",
            "4                                              হিসাব বরবর\n",
            "                              ...                        \n",
            "4995          এত এত হেডলাইন করে লাভ অাছে স্কোয়াডে না নিয়ে\n",
            "4996    জাতীয় দলে এনে রানের ফোয়াড়া বন্ধ করার জন্য কতৃপ...\n",
            "4997                     যেমন বোলার তেমন ব্যাটসম্যান.....\n",
            "4998                       টেস্ট ও ওডিআই এর জন্য ঠিক আছে।\n",
            "4999              রানের ফোয়ারা শুধু ঘরোয় পরিবেশেই সম্ভব\n",
            "Name: Reviews, Length: 4997, dtype: object \n",
            "Cleaned:\n",
            " 0                                   জমে উঠেছে গ্রুপ খেলা \n",
            "1                          খেলা হপ্পে দল হারবে দল বাদ পড়ে\n",
            "2                                               কয়টা সমান\n",
            "3                               সোজা হিসাব হারবে বাদ পরবে\n",
            "4                                              হিসাব বরবর\n",
            "                              ...                        \n",
            "4995                            হেডলাইন লাভ অাছে স্কোয়াডে\n",
            "4996    জাতীয় দলে এনে রানের ফোয়াড়া বন্ধ কতৃপক্ষের অনুর...\n",
            "4997                                   বোলার ব্যাটসম্যান \n",
            "4998                                         টেস্ট ওডিআই \n",
            "4999                   রানের ফোয়ারা ঘরোয় পরিবেশেই সম্ভব\n",
            "Name: cleaned, Length: 4997, dtype: object \n",
            "\n"
          ]
        },
        {
          "output_type": "stream",
          "name": "stderr",
          "text": [
            "<ipython-input-30-c77f07ec395f>:2: SettingWithCopyWarning: \n",
            "A value is trying to be set on a copy of a slice from a DataFrame.\n",
            "Try using .loc[row_indexer,col_indexer] = value instead\n",
            "\n",
            "See the caveats in the documentation: https://pandas.pydata.org/pandas-docs/stable/user_guide/indexing.html#returning-a-view-versus-a-copy\n",
            "  data['cleaned'] = data['Reviews'].apply(process_comments)\n"
          ]
        }
      ]
    },
    {
      "cell_type": "code",
      "source": [
        "import numpy as np\n",
        "def data_summary(data):\n",
        "    \n",
        "    \"\"\"\n",
        "    This function will print the summary of the reviews and words distribution in the dataset. \n",
        "    \n",
        "    Args:\n",
        "        dataset: list of cleaned sentences   \n",
        "        \n",
        "    Returns:\n",
        "        Number of documnets per class: int \n",
        "        Number of words per class: int\n",
        "        Number of unique words per class: int\n",
        "    \"\"\"\n",
        "    documents = []\n",
        "    words = []\n",
        "    u_words = []\n",
        "    total_u_words = [word.strip().lower() for t in list(data.cleaned) for word in t.strip().split()]\n",
        "    class_label= [k for k,v in data.Polarity.value_counts().to_dict().items()]\n",
        "  # find word list\n",
        "    for label in class_label: \n",
        "        word_list = [word.strip().lower() for t in list(data[data.Polarity==label].cleaned) for word in t.strip().split()]\n",
        "        counts = dict()\n",
        "        for word in word_list:\n",
        "                counts[word] = counts.get(word, 0)+1\n",
        "        # sort the dictionary of word list  \n",
        "        ordered = sorted(counts.items(), key= lambda item: item[1],reverse = True)\n",
        "        # Documents per class\n",
        "        documents.append(len(list(data[data.Polarity==label].cleaned)))\n",
        "        # Total Word per class\n",
        "        words.append(len(word_list))\n",
        "        # Unique words per class \n",
        "        u_words.append(len(np.unique(word_list)))\n",
        "       \n",
        "        print(\"\\nClass Name : \",label)\n",
        "        print(\"Number of Documents:{}\".format(len(list(data[data.Polarity==label].cleaned))))  \n",
        "        print(\"Number of Words:{}\".format(len(word_list))) \n",
        "        print(\"Number of Unique Words:{}\".format(len(np.unique(word_list)))) \n",
        "        print(\"Most Frequent Words:\\n\")\n",
        "        for k,v in ordered[:10]:\n",
        "              print(\"{}\\t{}\".format(k,v))\n",
        "    print(\"Total Number of Unique Words:{}\".format(len(np.unique(total_u_words))))           \n",
        "   \n",
        "    return documents,words,u_words,class_label\n",
        "\n",
        "#call the fucntion\n",
        "documents,words,u_words,class_names = data_summary(data)"
      ],
      "metadata": {
        "colab": {
          "base_uri": "https://localhost:8080/"
        },
        "id": "y143Al3DzWSS",
        "outputId": "a1db31b2-b58d-4dd1-d71b-89e4fea8c678"
      },
      "execution_count": null,
      "outputs": [
        {
          "output_type": "stream",
          "name": "stdout",
          "text": [
            "\n",
            "Class Name :  positive\n",
            "Number of Documents:2617\n",
            "Number of Words:18101\n",
            "Number of Unique Words:5095\n",
            "Most Frequent Words:\n",
            "\n",
            "বাংলাদেশ\t264\n",
            "ভালো\t249\n",
            "ক্রিকেট\t191\n",
            "ভাই\t184\n",
            "বাংলাদেশের\t113\n",
            "দল\t108\n",
            "খেলা\t105\n",
            "একটা\t101\n",
            "শুভকামনা\t100\n",
            "ম্যাচ\t97\n",
            "\n",
            "Class Name :  neutral\n",
            "Number of Documents:1310\n",
            "Number of Words:8443\n",
            "Number of Unique Words:4031\n",
            "Most Frequent Words:\n",
            "\n",
            "ভালো\t66\n",
            "ভাই\t53\n",
            "একটা\t49\n",
            "কথা\t43\n",
            "দল\t42\n",
            "খেলা\t41\n",
            "শান্ত\t40\n",
            "দিয়ে\t40\n",
            "দলের\t39\n",
            "সাথে\t39\n",
            "\n",
            "Class Name :  negative\n",
            "Number of Documents:1070\n",
            "Number of Words:7113\n",
            "Number of Unique Words:3088\n",
            "Most Frequent Words:\n",
            "\n",
            "শান্ত\t111\n",
            "বাংলাদেশ\t77\n",
            "দলে\t57\n",
            "ভালো\t53\n",
            "লর্ড\t53\n",
            "দল\t50\n",
            "নান্নু\t50\n",
            "ক্রিকেট\t48\n",
            "জাতীয়\t45\n",
            "বাদ\t36\n",
            "Total Number of Unique Words:8551\n"
          ]
        }
      ]
    },
    {
      "cell_type": "code",
      "source": [
        "positive = data[data.Polarity == 'positive']\n",
        "negative = data[data.Polarity == 'negative'][:4000]\n",
        "data = positive.append(negative,ignore_index=True)\n",
        "data.Polarity.value_counts()"
      ],
      "metadata": {
        "colab": {
          "base_uri": "https://localhost:8080/"
        },
        "id": "SF0Rd60Cznha",
        "outputId": "c07f5688-5b73-4a04-e5c9-2c1cc8915f46"
      },
      "execution_count": null,
      "outputs": [
        {
          "output_type": "execute_result",
          "data": {
            "text/plain": [
              "positive    2617\n",
              "negative    1070\n",
              "Name: Polarity, dtype: int64"
            ]
          },
          "metadata": {},
          "execution_count": 32
        }
      ]
    },
    {
      "cell_type": "code",
      "source": [
        "#==================================================\n",
        "                                       ################# Label Encoding Function #########\n",
        "                                       #==================================================\n",
        "\n",
        "def label_encoding(Polarity,bool):\n",
        "    \"\"\"\n",
        "    This function will return the encoded labels in array format. \n",
        "    \n",
        "    Args:\n",
        "        sentiment: series of class names(str)\n",
        "        bool: boolean (True or False)\n",
        "        \n",
        "    Returns:\n",
        "        labels: numpy array \n",
        "    \"\"\"\n",
        "    le = LabelEncoder()\n",
        "    le.fit(Polarity)\n",
        "    encoded_labels = le.transform(Polarity)\n",
        "    labels = np.array(encoded_labels) # Converting into numpy array\n",
        "    class_names =le.classes_ ## Define the class names again\n",
        "    if bool == True:\n",
        "        print(\"\\n\\t\\t\\t===== Label Encoding =====\",\"\\nClass Names:-->\",le.classes_)\n",
        "        for i in sample_data:\n",
        "            print(Polarity[i],' ', encoded_labels[i],'\\n')\n",
        "\n",
        "    return labels\n",
        "\n",
        "\n",
        "\n",
        "                           #===========================================================\n",
        "                           ################# Dataset Splitting Function ###############\n",
        "                           #=========================================================== \n",
        "\n",
        "def dataset_split(feature_space,Polarity):\n",
        "    \"\"\"\n",
        "    This function will return the splitted (80%-20%) feature vector . \n",
        "    \n",
        "    Args:\n",
        "        feature_space: calcuated feature vector (sparse matrix)\n",
        "        sentiment: encoded lables (array) \n",
        "        \n",
        "    Returns:\n",
        "        X_train: training feature vector (sparse matrix)\n",
        "        X_test : testing feature vector (sparse matrix)\n",
        "        y_train: training encoded labels (array) \n",
        "        y_test : testing encoded labels (array) \n",
        "    \"\"\"\n",
        "\n",
        "    X_train,X_test,y_train,y_test = train_test_split(feature_space,Polarity,train_size = 0.9,\n",
        "                                                  test_size = 0.1,random_state =0)\n",
        "    print(\"Feature Size :======>\",X_train.shape[1])\n",
        "    print(\"\\nDataset Distribution:\\n\")\n",
        "    print(\"\\tSet Name\",\"\\t\\tSize\")\n",
        "    print(\"\\t========\\t\\t======\")\n",
        "\n",
        "    print(\"\\tFull\\t\\t\\t\",feature_space.shape[0],\n",
        "        \"\\n\\tTraining\\t\\t\",X_train.shape[0],\n",
        "        \"\\n\\tTest\\t\\t\\t\",X_test.shape[0])\n",
        "  \n",
        "    return X_train,X_test,y_train,y_test"
      ],
      "metadata": {
        "id": "N1QH6pZm02kC"
      },
      "execution_count": null,
      "outputs": []
    },
    {
      "cell_type": "code",
      "source": [
        "data.cleaned = data.cleaned.apply(lambda x:x.replace('\\n',' '))"
      ],
      "metadata": {
        "id": "28pM1EiH1Ina"
      },
      "execution_count": null,
      "outputs": []
    },
    {
      "cell_type": "code",
      "source": [
        "#======================================\n",
        "                                            ##### Unigram Tf-idf value calculation\n",
        "                                            #======================================\n",
        "            \n",
        "def calc_gram_tfidf(Reviews,gram):\n",
        "    \"\"\"\n",
        "    This function will return the tf-idf value of the respective gram features . \n",
        "    \n",
        "    Args:\n",
        "        reviews: a list of cleaned reviews   \n",
        "        \n",
        "    Returns:\n",
        "        tfidf: a instance of TfidfVectorizer\n",
        "        X : Unigram Feature Vector (sparse matrix)\n",
        "    \"\"\"\n",
        "    tfidf = TfidfVectorizer(ngram_range=gram,use_idf=True,tokenizer=lambda x: x.split()) \n",
        "    X = tfidf.fit_transform(Reviews)\n",
        "    \n",
        "    return tfidf,X"
      ],
      "metadata": {
        "id": "x0NBTOC51L8r"
      },
      "execution_count": null,
      "outputs": []
    },
    {
      "cell_type": "code",
      "source": [
        "from sklearn.linear_model import LogisticRegression\n",
        "from sklearn.tree import DecisionTreeClassifier\n",
        "from sklearn.ensemble import RandomForestClassifier\n",
        "from sklearn.naive_bayes import MultinomialNB\n",
        "from sklearn.neighbors import KNeighborsClassifier\n",
        "from sklearn.svm import SVC\n",
        "from sklearn.linear_model import SGDClassifier\n",
        "from sklearn.metrics import classification_report,accuracy_score,precision_score,recall_score,f1_score\n",
        "from sklearn.metrics import roc_curve, roc_auc_score\n",
        "from sklearn.metrics import average_precision_score,roc_auc_score, roc_curve, precision_recall_curve"
      ],
      "metadata": {
        "id": "tFSzzbqo1Rd7"
      },
      "execution_count": null,
      "outputs": []
    },
    {
      "cell_type": "code",
      "source": [
        "#============================================\n",
        "                                              #########  Classifiers Defination  #########\n",
        "                                              #============================================\n",
        "def ml_models_defination(): \n",
        "    \"\"\"\n",
        "    This function consists the models defination for All gram Features\n",
        "    \n",
        "    Retuns:\n",
        "        ml_models: list of models\n",
        "        model_names: list of model_names\n",
        "    \n",
        "    \"\"\"\n",
        "    \n",
        "    lr_model = LogisticRegression(random_state = 123)\n",
        "    dt_model = DecisionTreeClassifier(criterion = 'entropy', random_state = 0)\n",
        "    rf_model = RandomForestClassifier(n_estimators=100, criterion ='entropy', random_state = 0)\n",
        "    mnb_model = MultinomialNB(alpha=0.15)\n",
        "    knn_model = KNeighborsClassifier(n_neighbors=3, metric = 'minkowski')\n",
        "    lsvm_model = SVC(kernel = 'linear',C = 0.2, probability=True, random_state = 0)\n",
        "    ksvm_model = SVC(C= 1000,kernel = 'rbf',probability=True, gamma = 0.00015, random_state = 0)\n",
        "    model_names = ['Logistic Regression','Decision Tree','Random Forest','Naive Bayes','KNN','Linear SVM','Kernel SVM']\n",
        "    #model_names = ['Logistic Regression']\n",
        "    # Create list of models\n",
        "    ml_models = [lr_model,dt_model,rf_model,mnb_model,knn_model,lsvm_model,ksvm_model]\n",
        "    #ml_models = [lr_model]\n",
        "    return ml_models,model_names \n",
        "\n",
        "\n",
        "                                          #============================================\n",
        "                                           ####### Model Evaluation Function ############\n",
        "                                           #=============================================\n",
        "\n",
        "def model_performace(model,X_train,X_test,y_train,y_test):\n",
        "    \"\"\"\n",
        "    This function will return the performance parameter values of each ML models.\n",
        "    Performance parameters are Accuracy, F1-Score, Precision, Recall.\n",
        "    \n",
        "    Args:\n",
        "        model: a ML model instance\n",
        "        X_train: training feature vector (sparse matrix)\n",
        "        X_test : testing feature vector (sparse matrix)\n",
        "        y_train: training encoded labels (array) \n",
        "        y_test : testing encoded labels (array) \n",
        "        \n",
        "    Returns:\n",
        "        my_dict: a dictionary of all the parameters for each models\n",
        "    \"\"\"\n",
        "    my_dict = {}\n",
        "    model.fit(X_train,y_train)\n",
        "    # Prediction\n",
        "    pred_y = model.predict(X_test)\n",
        "    my_dict['Accuracy'] = round(accuracy_score(y_test, pred_y),4)*100 \n",
        "    my_dict['Precision'] = round(precision_score(y_test, pred_y),4)*100 \n",
        "    my_dict['Recall'] = round(recall_score(y_test, pred_y),4)*100 \n",
        "    my_dict['F1 Score'] = round(f1_score(y_test, pred_y),4)*100 \n",
        "    \n",
        "    return my_dict  \n",
        "\n",
        "                                        #========================================\n",
        "                                        #### Model Performane into Dataframe #####\n",
        "                                        #=========================================\n",
        "            \n",
        "def performance_table(performance_dict):\n",
        "    \"\"\"\n",
        "    This function will create a dataframe of all the performance parameters.\n",
        "    \n",
        "    Args:\n",
        "        performance_dict: a dictionary of all the parameters for each models\n",
        "        \n",
        "    Returns:\n",
        "        performance_df: a dataframe\n",
        "    \"\"\"\n",
        "\n",
        "    acc_list = []\n",
        "    pr_list = []\n",
        "    re_list = []\n",
        "    f1_list = []\n",
        "    for i in performance_dict.keys():\n",
        "        acc_list.append(performance_dict[i]['Accuracy'])\n",
        "        pr_list.append(performance_dict[i]['Precision'])\n",
        "        re_list.append(performance_dict[i]['Recall'])\n",
        "        f1_list.append(performance_dict[i]['F1 Score'])\n",
        "\n",
        "    # Create a dataframe\n",
        "    model_names = ['LR','DT','RF','MNB','KNN','Linear SVM','RBF SVM']\n",
        "    performance_df = pd.DataFrame({'Accuracy':acc_list,'Precision':pr_list,\n",
        "                                   'Recall':re_list,'F1 Score':f1_list,\n",
        "                                   'Model Name':model_names })\n",
        "    return performance_df"
      ],
      "metadata": {
        "id": "-gHHp_5U1WmK"
      },
      "execution_count": null,
      "outputs": []
    },
    {
      "cell_type": "code",
      "source": [
        "## save the performance of the model for each gram feature \n",
        "import json\n",
        "gram_names = ['Unigram','Bigram','Trigram']\n",
        "ngrams = [(1,1),(1,2),(1,3)]\n",
        "for i,gram in enumerate(ngrams):\n",
        "    average='micro'\n",
        "    tfidf,feature = calc_gram_tfidf(data.cleaned,gram)\n",
        "    labels = label_encoding(data.Polarity,False)\n",
        "    X_train,X_test,y_train,y_test = dataset_split(feature,labels) \n",
        "    ml_models,model_names = ml_models_defination()\n",
        "    # call model accuracy function and save the metrices into a dictionary\n",
        "    accuracy = {f'{model_names[j]}':model_performace(model,X_train,X_test,y_train,y_test) for j,model in enumerate(ml_models)}\n",
        "    #Save the performance parameter into json file\n",
        "    with open(path+f'ml_performance_{gram_names[i]}.json', 'w') as f:\n",
        "           json.dump(accuracy, f)"
      ],
      "metadata": {
        "colab": {
          "base_uri": "https://localhost:8080/"
        },
        "id": "nZoB0UKj1iOB",
        "outputId": "7945612c-ba10-42ad-e5fa-fceadcb51c88"
      },
      "execution_count": null,
      "outputs": [
        {
          "output_type": "stream",
          "name": "stdout",
          "text": [
            "Feature Size :======> 6695\n",
            "\n",
            "Dataset Distribution:\n",
            "\n",
            "\tSet Name \t\tSize\n",
            "\t========\t\t======\n",
            "\tFull\t\t\t 3687 \n",
            "\tTraining\t\t 3318 \n",
            "\tTest\t\t\t 369\n",
            "Feature Size :======> 23037\n",
            "\n",
            "Dataset Distribution:\n",
            "\n",
            "\tSet Name \t\tSize\n",
            "\t========\t\t======\n",
            "\tFull\t\t\t 3687 \n",
            "\tTraining\t\t 3318 \n",
            "\tTest\t\t\t 369\n",
            "Feature Size :======> 38075\n",
            "\n",
            "Dataset Distribution:\n",
            "\n",
            "\tSet Name \t\tSize\n",
            "\t========\t\t======\n",
            "\tFull\t\t\t 3687 \n",
            "\tTraining\t\t 3318 \n",
            "\tTest\t\t\t 369\n"
          ]
        }
      ]
    },
    {
      "cell_type": "code",
      "source": [
        "# Load all the json files\n",
        "gram_names = ['Unigram','Bigram','Trigram']\n",
        "\n",
        "for gram in gram_names:\n",
        "  accuracy = json.load(open(path+f'ml_performance_{gram}.json'))\n",
        "  table = performance_table(accuracy)\n",
        "  print(f\"\\n========== Performace Table for {gram} feature:========\\n\",table)\n",
        "  print(f\"\\n========In case of {gram} feature:========\\n\")\n",
        "  print(f\"Highest Accuracy achieved by {table['Model Name'][table.Accuracy.idxmax(axis = 0)]} at = {max(table.Accuracy)}\")\n",
        "  print(f\"Highest F1-Score achieved by {table['Model Name'][table['F1 Score'].idxmax(axis = 0)]} at = {max(table['F1 Score'] )}\")\n",
        "  print(f\"Highest Precision Score achieved by {table['Model Name'][table['Precision'].idxmax(axis = 0)]} at = {max(table['Precision'] )}\")\n",
        "  print(f\"Highest Recall Score achieved by {table['Model Name'][table['Recall'].idxmax(axis = 0)]} at = {max(table['Recall'] )}\")"
      ],
      "metadata": {
        "colab": {
          "base_uri": "https://localhost:8080/"
        },
        "id": "sGhMeT0z17CQ",
        "outputId": "bf42e76b-9e44-4b37-f08a-b8845133cfda"
      },
      "execution_count": null,
      "outputs": [
        {
          "output_type": "stream",
          "name": "stdout",
          "text": [
            "\n",
            "========== Performace Table for Unigram feature:========\n",
            "    Accuracy  Precision  Recall  F1 Score  Model Name\n",
            "0     77.78      76.81   98.08     86.15          LR\n",
            "1     76.69      84.25   82.31     83.27          DT\n",
            "2     81.84      82.49   94.23     87.97          RF\n",
            "3     78.86      82.73   88.46     85.50         MNB\n",
            "4     74.25      79.57   85.38     82.37         KNN\n",
            "5     73.17      72.68   99.23     83.90  Linear SVM\n",
            "6     76.42      75.52   98.46     85.48     RBF SVM\n",
            "\n",
            "========In case of Unigram feature:========\n",
            "\n",
            "Highest Accuracy achieved by RF at = 81.84\n",
            "Highest F1-Score achieved by RF at = 87.97\n",
            "Highest Precision Score achieved by DT at = 84.25\n",
            "Highest Recall Score achieved by Linear SVM at = 99.22999999999999\n",
            "\n",
            "========== Performace Table for Bigram feature:========\n",
            "    Accuracy  Precision  Recall  F1 Score  Model Name\n",
            "0     74.53      73.71   99.23     84.59          LR\n",
            "1     74.53      83.47   79.62     81.50          DT\n",
            "2     81.03      80.84   95.77     87.68          RF\n",
            "3     76.42      85.60   80.00     82.70         MNB\n",
            "4     75.88      80.00   87.69     83.67         KNN\n",
            "5     71.54      71.23  100.00     83.20  Linear SVM\n",
            "6     72.36      71.94   99.62     83.55     RBF SVM\n",
            "\n",
            "========In case of Bigram feature:========\n",
            "\n",
            "Highest Accuracy achieved by RF at = 81.03\n",
            "Highest F1-Score achieved by RF at = 87.68\n",
            "Highest Precision Score achieved by MNB at = 85.6\n",
            "Highest Recall Score achieved by Linear SVM at = 100.0\n",
            "\n",
            "========== Performace Table for Trigram feature:========\n",
            "    Accuracy  Precision  Recall  F1 Score  Model Name\n",
            "0     72.90      72.35   99.62     83.82          LR\n",
            "1     73.71      83.00   78.85     80.87          DT\n",
            "2     80.76      80.00   96.92     87.65          RF\n",
            "3     74.53      86.73   75.38     80.66         MNB\n",
            "4     77.24      80.99   88.46     84.56         KNN\n",
            "5     71.27      71.04  100.00     83.07  Linear SVM\n",
            "6     71.82      71.43  100.00     83.33     RBF SVM\n",
            "\n",
            "========In case of Trigram feature:========\n",
            "\n",
            "Highest Accuracy achieved by RF at = 80.76\n",
            "Highest F1-Score achieved by RF at = 87.64999999999999\n",
            "Highest Precision Score achieved by MNB at = 86.72999999999999\n",
            "Highest Recall Score achieved by Linear SVM at = 100.0\n"
          ]
        }
      ]
    },
    {
      "cell_type": "code",
      "source": [
        "import matplotlib.pyplot as plt\n",
        "gram_names = ['Unigram','Bigram','Trigram']\n",
        "\n",
        "for gram in gram_names:\n",
        "  accuracy = json.load(open(path+f'ml_performance_{gram}.json'))\n",
        "  table = performance_table(accuracy)\n",
        "  df = pd.melt(table[['Accuracy','F1 Score','Model Name']], id_vars=\"Model Name\", var_name=\"Category\", value_name=\"Values\")\n",
        "  plt.figure(figsize=(8,6))\n",
        "  ax = plt.subplot()\n",
        "  sns.barplot(data=df,x='Model Name', y='Values' ,hue='Category')\n",
        "  ax.set_xlabel('Model Name') \n",
        "  ax.set_title(f'Comparison of Accuracy and F1-Score Value for {gram} Feature')\n",
        "  ax.set_ylim([10,80])\n",
        "  ax.xaxis.set_ticklabels(table['Model Name'], rotation=45);"
      ],
      "metadata": {
        "id": "6ncWdzD_2Zsd",
        "outputId": "e450bbaf-0798-4942-bb33-977db4ac935c",
        "colab": {
          "base_uri": "https://localhost:8080/",
          "height": 1000
        }
      },
      "execution_count": null,
      "outputs": [
        {
          "output_type": "display_data",
          "data": {
            "text/plain": [
              "<Figure size 576x432 with 1 Axes>"
            ],
            "image/png": "[encoded data removed]"
          },
          "metadata": {}
        },
        {
          "output_type": "display_data",
          "data": {
            "text/plain": [
              "<Figure size 576x432 with 1 Axes>"
            ],
            "image/png": "[encoded data removed]"
          },
          "metadata": {}
        },
        {
          "output_type": "display_data",
          "data": {
            "text/plain": [
              "<Figure size 576x432 with 1 Axes>"
            ],
            "image/png": "[encoded data removed]"
          },
          "metadata": {}
        }
      ]
    }
  ]
}