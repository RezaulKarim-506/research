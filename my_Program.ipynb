{
  "cells": [
    {
      "cell_type": "markdown",
      "metadata": {
        "id": "view-in-github",
        "colab_type": "text"
      },
      "source": [
        "<a href=\"https://colab.research.google.com/github/RezaulKarim-506/research/blob/master/my_Program.ipynb\" target=\"_parent\"><img src=\"https://colab.research.google.com/assets/colab-badge.svg\" alt=\"Open In Colab\"/></a>"
      ]
    },
    {
      "cell_type": "code",
      "execution_count": 2,
      "metadata": {
        "id": "OEFHkUAaJ5gz"
      },
      "outputs": [],
      "source": [
        "from google.colab import drive"
      ]
    },
    {
      "cell_type": "code",
      "execution_count": 3,
      "metadata": {
        "colab": {
          "base_uri": "https://localhost:8080/"
        },
        "id": "p5sZiAp3KIDS",
        "outputId": "64a5c44d-a103-4ef0-90ff-693e59f61ecf"
      },
      "outputs": [
        {
          "output_type": "stream",
          "name": "stdout",
          "text": [
            "Mounted at /content/drive\n"
          ]
        }
      ],
      "source": [
        "drive.mount('/content/drive')"
      ]
    },
    {
      "cell_type": "code",
      "execution_count": 74,
      "metadata": {
        "id": "l4LnqBBQG2To"
      },
      "outputs": [],
      "source": [
        "import pandas as pd\n",
        "import seaborn as sns\n",
        "import re,json,nltk\n",
        "from sklearn.preprocessing import LabelEncoder\n",
        "from sklearn.feature_extraction.text import TfidfVectorizer\n",
        "from sklearn.model_selection import train_test_split\n",
        "from sklearn.metrics import classification_report,accuracy_score,precision_score,recall_score,f1_score\n",
        "from tensorflow.keras.preprocessing.text import Tokenizer"
      ]
    },
    {
      "cell_type": "code",
      "execution_count": 75,
      "metadata": {
        "id": "drD5MlSGMHzq"
      },
      "outputs": [],
      "source": [
        "data = pd.read_csv('/content/drive/MyDrive/Colab Notebooks/dataset_for_Bangla_as_text.csv',encoding = \"utf-16\", sep = \"\\t\")"
      ]
    },
    {
      "cell_type": "code",
      "source": [
        "path = '/content/drive/MyDrive/Colab Notebooks/NLP Projects/Sentiment Analysis/ml_performance'"
      ],
      "metadata": {
        "id": "HH-jnQaQCf-l"
      },
      "execution_count": 76,
      "outputs": []
    },
    {
      "cell_type": "code",
      "source": [
        "stopwords_list = path+'bangla_stopwords.txt'"
      ],
      "metadata": {
        "id": "HPLWtegODYwJ"
      },
      "execution_count": 77,
      "outputs": []
    },
    {
      "cell_type": "code",
      "execution_count": 78,
      "metadata": {
        "colab": {
          "base_uri": "https://localhost:8080/",
          "height": 206
        },
        "id": "fILhu8B4cmpe",
        "outputId": "7ab224c0-c4d1-4902-8473-5768d281689a"
      },
      "outputs": [
        {
          "output_type": "execute_result",
          "data": {
            "text/plain": [
              "                                           Reviews    Feelings  Polarity\n",
              "0                      জমে উঠেছে গ্রুপ বি এর খেলা।  excitement  positive\n",
              "1  এখন খেলা হপ্পে, যে দল হারবে সেই দল বাদ পড়ে যাবে  excitement   neutral\n",
              "2                                     সব কয়টা সমান       other   neutral\n",
              "3                 সোজা হিসাব যে হারবে সেই বাদ পরবে         sad  positive\n",
              "4                                       হিসাব বরবর       other   neutral"
            ],
            "text/html": [
              "\n",
              "  <div id=\"df-e708a3dc-f856-4552-b4a6-59c6a2bef093\">\n",
              "    <div class=\"colab-df-container\">\n",
              "      <div>\n",
              "<style scoped>\n",
              "    .dataframe tbody tr th:only-of-type {\n",
              "        vertical-align: middle;\n",
              "    }\n",
              "\n",
              "    .dataframe tbody tr th {\n",
              "        vertical-align: top;\n",
              "    }\n",
              "\n",
              "    .dataframe thead th {\n",
              "        text-align: right;\n",
              "    }\n",
              "</style>\n",
              "<table border=\"1\" class=\"dataframe\">\n",
              "  <thead>\n",
              "    <tr style=\"text-align: right;\">\n",
              "      <th></th>\n",
              "      <th>Reviews</th>\n",
              "      <th>Feelings</th>\n",
              "      <th>Polarity</th>\n",
              "    </tr>\n",
              "  </thead>\n",
              "  <tbody>\n",
              "    <tr>\n",
              "      <th>0</th>\n",
              "      <td>জমে উঠেছে গ্রুপ বি এর খেলা।</td>\n",
              "      <td>excitement</td>\n",
              "      <td>positive</td>\n",
              "    </tr>\n",
              "    <tr>\n",
              "      <th>1</th>\n",
              "      <td>এখন খেলা হপ্পে, যে দল হারবে সেই দল বাদ পড়ে যাবে</td>\n",
              "      <td>excitement</td>\n",
              "      <td>neutral</td>\n",
              "    </tr>\n",
              "    <tr>\n",
              "      <th>2</th>\n",
              "      <td>সব কয়টা সমান</td>\n",
              "      <td>other</td>\n",
              "      <td>neutral</td>\n",
              "    </tr>\n",
              "    <tr>\n",
              "      <th>3</th>\n",
              "      <td>সোজা হিসাব যে হারবে সেই বাদ পরবে</td>\n",
              "      <td>sad</td>\n",
              "      <td>positive</td>\n",
              "    </tr>\n",
              "    <tr>\n",
              "      <th>4</th>\n",
              "      <td>হিসাব বরবর</td>\n",
              "      <td>other</td>\n",
              "      <td>neutral</td>\n",
              "    </tr>\n",
              "  </tbody>\n",
              "</table>\n",
              "</div>\n",
              "      <button class=\"colab-df-convert\" onclick=\"convertToInteractive('df-e708a3dc-f856-4552-b4a6-59c6a2bef093')\"\n",
              "              title=\"Convert this dataframe to an interactive table.\"\n",
              "              style=\"display:none;\">\n",
              "        \n",
              "  <svg xmlns=\"http://www.w3.org/2000/svg\" height=\"24px\"viewBox=\"0 0 24 24\"\n",
              "       width=\"24px\">\n",
              "    <path d=\"M0 0h24v24H0V0z\" fill=\"none\"/>\n",
              "    <path d=\"M18.56 5.44l.94 2.06.94-2.06 2.06-.94-2.06-.94-.94-2.06-.94 2.06-2.06.94zm-11 1L8.5 8.5l.94-2.06 2.06-.94-2.06-.94L8.5 2.5l-.94 2.06-2.06.94zm10 10l.94 2.06.94-2.06 2.06-.94-2.06-.94-.94-2.06-.94 2.06-2.06.94z\"/><path d=\"M17.41 7.96l-1.37-1.37c-.4-.4-.92-.59-1.43-.59-.52 0-1.04.2-1.43.59L10.3 9.45l-7.72 7.72c-.78.78-.78 2.05 0 2.83L4 21.41c.39.39.9.59 1.41.59.51 0 1.02-.2 1.41-.59l7.78-7.78 2.81-2.81c.8-.78.8-2.07 0-2.86zM5.41 20L4 18.59l7.72-7.72 1.47 1.35L5.41 20z\"/>\n",
              "  </svg>\n",
              "      </button>\n",
              "      \n",
              "  <style>\n",
              "    .colab-df-container {\n",
              "      display:flex;\n",
              "      flex-wrap:wrap;\n",
              "      gap: 12px;\n",
              "    }\n",
              "\n",
              "    .colab-df-convert {\n",
              "      background-color: #E8F0FE;\n",
              "      border: none;\n",
              "      border-radius: 50%;\n",
              "      cursor: pointer;\n",
              "      display: none;\n",
              "      fill: #1967D2;\n",
              "      height: 32px;\n",
              "      padding: 0 0 0 0;\n",
              "      width: 32px;\n",
              "    }\n",
              "\n",
              "    .colab-df-convert:hover {\n",
              "      background-color: #E2EBFA;\n",
              "      box-shadow: 0px 1px 2px rgba(60, 64, 67, 0.3), 0px 1px 3px 1px rgba(60, 64, 67, 0.15);\n",
              "      fill: #174EA6;\n",
              "    }\n",
              "\n",
              "    [theme=dark] .colab-df-convert {\n",
              "      background-color: #3B4455;\n",
              "      fill: #D2E3FC;\n",
              "    }\n",
              "\n",
              "    [theme=dark] .colab-df-convert:hover {\n",
              "      background-color: #434B5C;\n",
              "      box-shadow: 0px 1px 3px 1px rgba(0, 0, 0, 0.15);\n",
              "      filter: drop-shadow(0px 1px 2px rgba(0, 0, 0, 0.3));\n",
              "      fill: #FFFFFF;\n",
              "    }\n",
              "  </style>\n",
              "\n",
              "      <script>\n",
              "        const buttonEl =\n",
              "          document.querySelector('#df-e708a3dc-f856-4552-b4a6-59c6a2bef093 button.colab-df-convert');\n",
              "        buttonEl.style.display =\n",
              "          google.colab.kernel.accessAllowed ? 'block' : 'none';\n",
              "\n",
              "        async function convertToInteractive(key) {\n",
              "          const element = document.querySelector('#df-e708a3dc-f856-4552-b4a6-59c6a2bef093');\n",
              "          const dataTable =\n",
              "            await google.colab.kernel.invokeFunction('convertToInteractive',\n",
              "                                                     [key], {});\n",
              "          if (!dataTable) return;\n",
              "\n",
              "          const docLinkHtml = 'Like what you see? Visit the ' +\n",
              "            '<a target=\"_blank\" href=https://colab.research.google.com/notebooks/data_table.ipynb>data table notebook</a>'\n",
              "            + ' to learn more about interactive tables.';\n",
              "          element.innerHTML = '';\n",
              "          dataTable['output_type'] = 'display_data';\n",
              "          await google.colab.output.renderOutput(dataTable, element);\n",
              "          const docLink = document.createElement('div');\n",
              "          docLink.innerHTML = docLinkHtml;\n",
              "          element.appendChild(docLink);\n",
              "        }\n",
              "      </script>\n",
              "    </div>\n",
              "  </div>\n",
              "  "
            ]
          },
          "metadata": {},
          "execution_count": 78
        }
      ],
      "source": [
        "data.head()"
      ]
    },
    {
      "cell_type": "code",
      "execution_count": 79,
      "metadata": {
        "colab": {
          "base_uri": "https://localhost:8080/",
          "height": 424
        },
        "id": "anC2nWHteTY7",
        "outputId": "157602ed-1448-45fa-d2bb-2c503e943414"
      },
      "outputs": [
        {
          "output_type": "execute_result",
          "data": {
            "text/plain": [
              "                                                Reviews    Feelings  Polarity\n",
              "0                           জমে উঠেছে গ্রুপ বি এর খেলা।  excitement  positive\n",
              "1       এখন খেলা হপ্পে, যে দল হারবে সেই দল বাদ পড়ে যাবে  excitement   neutral\n",
              "2                                          সব কয়টা সমান       other   neutral\n",
              "3                      সোজা হিসাব যে হারবে সেই বাদ পরবে         sad  positive\n",
              "4                                            হিসাব বরবর       other   neutral\n",
              "...                                                 ...         ...       ...\n",
              "4996  জাতীয় দলে এনে রানের ফোয়াড়া বন্ধ করার জন্য কতৃপ...         sad  positive\n",
              "4997                   যেমন বোলার তেমন ব্যাটসম্যান.....       happy  positive\n",
              "4998                     টেস্ট ও ওডিআই এর জন্য ঠিক আছে।       other   neutral\n",
              "4999            রানের ফোয়ারা শুধু ঘরোয় পরিবেশেই সম্ভব       happy  negative\n",
              "5000                                                NaN         NaN       NaN\n",
              "\n",
              "[5001 rows x 3 columns]"
            ],
            "text/html": [
              "\n",
              "  <div id=\"df-68eef7d0-45ed-49d3-81b6-ac775453f336\">\n",
              "    <div class=\"colab-df-container\">\n",
              "      <div>\n",
              "<style scoped>\n",
              "    .dataframe tbody tr th:only-of-type {\n",
              "        vertical-align: middle;\n",
              "    }\n",
              "\n",
              "    .dataframe tbody tr th {\n",
              "        vertical-align: top;\n",
              "    }\n",
              "\n",
              "    .dataframe thead th {\n",
              "        text-align: right;\n",
              "    }\n",
              "</style>\n",
              "<table border=\"1\" class=\"dataframe\">\n",
              "  <thead>\n",
              "    <tr style=\"text-align: right;\">\n",
              "      <th></th>\n",
              "      <th>Reviews</th>\n",
              "      <th>Feelings</th>\n",
              "      <th>Polarity</th>\n",
              "    </tr>\n",
              "  </thead>\n",
              "  <tbody>\n",
              "    <tr>\n",
              "      <th>0</th>\n",
              "      <td>জমে উঠেছে গ্রুপ বি এর খেলা।</td>\n",
              "      <td>excitement</td>\n",
              "      <td>positive</td>\n",
              "    </tr>\n",
              "    <tr>\n",
              "      <th>1</th>\n",
              "      <td>এখন খেলা হপ্পে, যে দল হারবে সেই দল বাদ পড়ে যাবে</td>\n",
              "      <td>excitement</td>\n",
              "      <td>neutral</td>\n",
              "    </tr>\n",
              "    <tr>\n",
              "      <th>2</th>\n",
              "      <td>সব কয়টা সমান</td>\n",
              "      <td>other</td>\n",
              "      <td>neutral</td>\n",
              "    </tr>\n",
              "    <tr>\n",
              "      <th>3</th>\n",
              "      <td>সোজা হিসাব যে হারবে সেই বাদ পরবে</td>\n",
              "      <td>sad</td>\n",
              "      <td>positive</td>\n",
              "    </tr>\n",
              "    <tr>\n",
              "      <th>4</th>\n",
              "      <td>হিসাব বরবর</td>\n",
              "      <td>other</td>\n",
              "      <td>neutral</td>\n",
              "    </tr>\n",
              "    <tr>\n",
              "      <th>...</th>\n",
              "      <td>...</td>\n",
              "      <td>...</td>\n",
              "      <td>...</td>\n",
              "    </tr>\n",
              "    <tr>\n",
              "      <th>4996</th>\n",
              "      <td>জাতীয় দলে এনে রানের ফোয়াড়া বন্ধ করার জন্য কতৃপ...</td>\n",
              "      <td>sad</td>\n",
              "      <td>positive</td>\n",
              "    </tr>\n",
              "    <tr>\n",
              "      <th>4997</th>\n",
              "      <td>যেমন বোলার তেমন ব্যাটসম্যান.....</td>\n",
              "      <td>happy</td>\n",
              "      <td>positive</td>\n",
              "    </tr>\n",
              "    <tr>\n",
              "      <th>4998</th>\n",
              "      <td>টেস্ট ও ওডিআই এর জন্য ঠিক আছে।</td>\n",
              "      <td>other</td>\n",
              "      <td>neutral</td>\n",
              "    </tr>\n",
              "    <tr>\n",
              "      <th>4999</th>\n",
              "      <td>রানের ফোয়ারা শুধু ঘরোয় পরিবেশেই সম্ভব</td>\n",
              "      <td>happy</td>\n",
              "      <td>negative</td>\n",
              "    </tr>\n",
              "    <tr>\n",
              "      <th>5000</th>\n",
              "      <td>NaN</td>\n",
              "      <td>NaN</td>\n",
              "      <td>NaN</td>\n",
              "    </tr>\n",
              "  </tbody>\n",
              "</table>\n",
              "<p>5001 rows × 3 columns</p>\n",
              "</div>\n",
              "      <button class=\"colab-df-convert\" onclick=\"convertToInteractive('df-68eef7d0-45ed-49d3-81b6-ac775453f336')\"\n",
              "              title=\"Convert this dataframe to an interactive table.\"\n",
              "              style=\"display:none;\">\n",
              "        \n",
              "  <svg xmlns=\"http://www.w3.org/2000/svg\" height=\"24px\"viewBox=\"0 0 24 24\"\n",
              "       width=\"24px\">\n",
              "    <path d=\"M0 0h24v24H0V0z\" fill=\"none\"/>\n",
              "    <path d=\"M18.56 5.44l.94 2.06.94-2.06 2.06-.94-2.06-.94-.94-2.06-.94 2.06-2.06.94zm-11 1L8.5 8.5l.94-2.06 2.06-.94-2.06-.94L8.5 2.5l-.94 2.06-2.06.94zm10 10l.94 2.06.94-2.06 2.06-.94-2.06-.94-.94-2.06-.94 2.06-2.06.94z\"/><path d=\"M17.41 7.96l-1.37-1.37c-.4-.4-.92-.59-1.43-.59-.52 0-1.04.2-1.43.59L10.3 9.45l-7.72 7.72c-.78.78-.78 2.05 0 2.83L4 21.41c.39.39.9.59 1.41.59.51 0 1.02-.2 1.41-.59l7.78-7.78 2.81-2.81c.8-.78.8-2.07 0-2.86zM5.41 20L4 18.59l7.72-7.72 1.47 1.35L5.41 20z\"/>\n",
              "  </svg>\n",
              "      </button>\n",
              "      \n",
              "  <style>\n",
              "    .colab-df-container {\n",
              "      display:flex;\n",
              "      flex-wrap:wrap;\n",
              "      gap: 12px;\n",
              "    }\n",
              "\n",
              "    .colab-df-convert {\n",
              "      background-color: #E8F0FE;\n",
              "      border: none;\n",
              "      border-radius: 50%;\n",
              "      cursor: pointer;\n",
              "      display: none;\n",
              "      fill: #1967D2;\n",
              "      height: 32px;\n",
              "      padding: 0 0 0 0;\n",
              "      width: 32px;\n",
              "    }\n",
              "\n",
              "    .colab-df-convert:hover {\n",
              "      background-color: #E2EBFA;\n",
              "      box-shadow: 0px 1px 2px rgba(60, 64, 67, 0.3), 0px 1px 3px 1px rgba(60, 64, 67, 0.15);\n",
              "      fill: #174EA6;\n",
              "    }\n",
              "\n",
              "    [theme=dark] .colab-df-convert {\n",
              "      background-color: #3B4455;\n",
              "      fill: #D2E3FC;\n",
              "    }\n",
              "\n",
              "    [theme=dark] .colab-df-convert:hover {\n",
              "      background-color: #434B5C;\n",
              "      box-shadow: 0px 1px 3px 1px rgba(0, 0, 0, 0.15);\n",
              "      filter: drop-shadow(0px 1px 2px rgba(0, 0, 0, 0.3));\n",
              "      fill: #FFFFFF;\n",
              "    }\n",
              "  </style>\n",
              "\n",
              "      <script>\n",
              "        const buttonEl =\n",
              "          document.querySelector('#df-68eef7d0-45ed-49d3-81b6-ac775453f336 button.colab-df-convert');\n",
              "        buttonEl.style.display =\n",
              "          google.colab.kernel.accessAllowed ? 'block' : 'none';\n",
              "\n",
              "        async function convertToInteractive(key) {\n",
              "          const element = document.querySelector('#df-68eef7d0-45ed-49d3-81b6-ac775453f336');\n",
              "          const dataTable =\n",
              "            await google.colab.kernel.invokeFunction('convertToInteractive',\n",
              "                                                     [key], {});\n",
              "          if (!dataTable) return;\n",
              "\n",
              "          const docLinkHtml = 'Like what you see? Visit the ' +\n",
              "            '<a target=\"_blank\" href=https://colab.research.google.com/notebooks/data_table.ipynb>data table notebook</a>'\n",
              "            + ' to learn more about interactive tables.';\n",
              "          element.innerHTML = '';\n",
              "          dataTable['output_type'] = 'display_data';\n",
              "          await google.colab.output.renderOutput(dataTable, element);\n",
              "          const docLink = document.createElement('div');\n",
              "          docLink.innerHTML = docLinkHtml;\n",
              "          element.appendChild(docLink);\n",
              "        }\n",
              "      </script>\n",
              "    </div>\n",
              "  </div>\n",
              "  "
            ]
          },
          "metadata": {},
          "execution_count": 79
        }
      ],
      "source": [
        "data"
      ]
    },
    {
      "cell_type": "code",
      "source": [
        "\n",
        "# drop all rows that have NaN/None values\n",
        "data=data.dropna()\n",
        "print(data)\n"
      ],
      "metadata": {
        "colab": {
          "base_uri": "https://localhost:8080/"
        },
        "id": "rwgeWHyWTZRM",
        "outputId": "2234bb3f-412c-44fc-a831-ac9ca669fb5a"
      },
      "execution_count": 80,
      "outputs": [
        {
          "output_type": "stream",
          "name": "stdout",
          "text": [
            "                                                Reviews    Feelings  Polarity\n",
            "0                           জমে উঠেছে গ্রুপ বি এর খেলা।  excitement  positive\n",
            "1       এখন খেলা হপ্পে, যে দল হারবে সেই দল বাদ পড়ে যাবে  excitement   neutral\n",
            "2                                          সব কয়টা সমান       other   neutral\n",
            "3                      সোজা হিসাব যে হারবে সেই বাদ পরবে         sad  positive\n",
            "4                                            হিসাব বরবর       other   neutral\n",
            "...                                                 ...         ...       ...\n",
            "4995        এত এত হেডলাইন করে লাভ অাছে স্কোয়াডে না নিয়ে         sad  negative\n",
            "4996  জাতীয় দলে এনে রানের ফোয়াড়া বন্ধ করার জন্য কতৃপ...         sad  positive\n",
            "4997                   যেমন বোলার তেমন ব্যাটসম্যান.....       happy  positive\n",
            "4998                     টেস্ট ও ওডিআই এর জন্য ঠিক আছে।       other   neutral\n",
            "4999            রানের ফোয়ারা শুধু ঘরোয় পরিবেশেই সম্ভব       happy  negative\n",
            "\n",
            "[4997 rows x 3 columns]\n"
          ]
        }
      ]
    },
    {
      "cell_type": "code",
      "source": [
        "data"
      ],
      "metadata": {
        "colab": {
          "base_uri": "https://localhost:8080/",
          "height": 424
        },
        "id": "t0PNTTqPTtTo",
        "outputId": "7dcf6381-0ba4-49dc-d0c2-289a67b1b996"
      },
      "execution_count": 81,
      "outputs": [
        {
          "output_type": "execute_result",
          "data": {
            "text/plain": [
              "                                                Reviews    Feelings  Polarity\n",
              "0                           জমে উঠেছে গ্রুপ বি এর খেলা।  excitement  positive\n",
              "1       এখন খেলা হপ্পে, যে দল হারবে সেই দল বাদ পড়ে যাবে  excitement   neutral\n",
              "2                                          সব কয়টা সমান       other   neutral\n",
              "3                      সোজা হিসাব যে হারবে সেই বাদ পরবে         sad  positive\n",
              "4                                            হিসাব বরবর       other   neutral\n",
              "...                                                 ...         ...       ...\n",
              "4995        এত এত হেডলাইন করে লাভ অাছে স্কোয়াডে না নিয়ে         sad  negative\n",
              "4996  জাতীয় দলে এনে রানের ফোয়াড়া বন্ধ করার জন্য কতৃপ...         sad  positive\n",
              "4997                   যেমন বোলার তেমন ব্যাটসম্যান.....       happy  positive\n",
              "4998                     টেস্ট ও ওডিআই এর জন্য ঠিক আছে।       other   neutral\n",
              "4999            রানের ফোয়ারা শুধু ঘরোয় পরিবেশেই সম্ভব       happy  negative\n",
              "\n",
              "[4997 rows x 3 columns]"
            ],
            "text/html": [
              "\n",
              "  <div id=\"df-69a6caba-fb50-465f-8808-c468e0c996d1\">\n",
              "    <div class=\"colab-df-container\">\n",
              "      <div>\n",
              "<style scoped>\n",
              "    .dataframe tbody tr th:only-of-type {\n",
              "        vertical-align: middle;\n",
              "    }\n",
              "\n",
              "    .dataframe tbody tr th {\n",
              "        vertical-align: top;\n",
              "    }\n",
              "\n",
              "    .dataframe thead th {\n",
              "        text-align: right;\n",
              "    }\n",
              "</style>\n",
              "<table border=\"1\" class=\"dataframe\">\n",
              "  <thead>\n",
              "    <tr style=\"text-align: right;\">\n",
              "      <th></th>\n",
              "      <th>Reviews</th>\n",
              "      <th>Feelings</th>\n",
              "      <th>Polarity</th>\n",
              "    </tr>\n",
              "  </thead>\n",
              "  <tbody>\n",
              "    <tr>\n",
              "      <th>0</th>\n",
              "      <td>জমে উঠেছে গ্রুপ বি এর খেলা।</td>\n",
              "      <td>excitement</td>\n",
              "      <td>positive</td>\n",
              "    </tr>\n",
              "    <tr>\n",
              "      <th>1</th>\n",
              "      <td>এখন খেলা হপ্পে, যে দল হারবে সেই দল বাদ পড়ে যাবে</td>\n",
              "      <td>excitement</td>\n",
              "      <td>neutral</td>\n",
              "    </tr>\n",
              "    <tr>\n",
              "      <th>2</th>\n",
              "      <td>সব কয়টা সমান</td>\n",
              "      <td>other</td>\n",
              "      <td>neutral</td>\n",
              "    </tr>\n",
              "    <tr>\n",
              "      <th>3</th>\n",
              "      <td>সোজা হিসাব যে হারবে সেই বাদ পরবে</td>\n",
              "      <td>sad</td>\n",
              "      <td>positive</td>\n",
              "    </tr>\n",
              "    <tr>\n",
              "      <th>4</th>\n",
              "      <td>হিসাব বরবর</td>\n",
              "      <td>other</td>\n",
              "      <td>neutral</td>\n",
              "    </tr>\n",
              "    <tr>\n",
              "      <th>...</th>\n",
              "      <td>...</td>\n",
              "      <td>...</td>\n",
              "      <td>...</td>\n",
              "    </tr>\n",
              "    <tr>\n",
              "      <th>4995</th>\n",
              "      <td>এত এত হেডলাইন করে লাভ অাছে স্কোয়াডে না নিয়ে</td>\n",
              "      <td>sad</td>\n",
              "      <td>negative</td>\n",
              "    </tr>\n",
              "    <tr>\n",
              "      <th>4996</th>\n",
              "      <td>জাতীয় দলে এনে রানের ফোয়াড়া বন্ধ করার জন্য কতৃপ...</td>\n",
              "      <td>sad</td>\n",
              "      <td>positive</td>\n",
              "    </tr>\n",
              "    <tr>\n",
              "      <th>4997</th>\n",
              "      <td>যেমন বোলার তেমন ব্যাটসম্যান.....</td>\n",
              "      <td>happy</td>\n",
              "      <td>positive</td>\n",
              "    </tr>\n",
              "    <tr>\n",
              "      <th>4998</th>\n",
              "      <td>টেস্ট ও ওডিআই এর জন্য ঠিক আছে।</td>\n",
              "      <td>other</td>\n",
              "      <td>neutral</td>\n",
              "    </tr>\n",
              "    <tr>\n",
              "      <th>4999</th>\n",
              "      <td>রানের ফোয়ারা শুধু ঘরোয় পরিবেশেই সম্ভব</td>\n",
              "      <td>happy</td>\n",
              "      <td>negative</td>\n",
              "    </tr>\n",
              "  </tbody>\n",
              "</table>\n",
              "<p>4997 rows × 3 columns</p>\n",
              "</div>\n",
              "      <button class=\"colab-df-convert\" onclick=\"convertToInteractive('df-69a6caba-fb50-465f-8808-c468e0c996d1')\"\n",
              "              title=\"Convert this dataframe to an interactive table.\"\n",
              "              style=\"display:none;\">\n",
              "        \n",
              "  <svg xmlns=\"http://www.w3.org/2000/svg\" height=\"24px\"viewBox=\"0 0 24 24\"\n",
              "       width=\"24px\">\n",
              "    <path d=\"M0 0h24v24H0V0z\" fill=\"none\"/>\n",
              "    <path d=\"M18.56 5.44l.94 2.06.94-2.06 2.06-.94-2.06-.94-.94-2.06-.94 2.06-2.06.94zm-11 1L8.5 8.5l.94-2.06 2.06-.94-2.06-.94L8.5 2.5l-.94 2.06-2.06.94zm10 10l.94 2.06.94-2.06 2.06-.94-2.06-.94-.94-2.06-.94 2.06-2.06.94z\"/><path d=\"M17.41 7.96l-1.37-1.37c-.4-.4-.92-.59-1.43-.59-.52 0-1.04.2-1.43.59L10.3 9.45l-7.72 7.72c-.78.78-.78 2.05 0 2.83L4 21.41c.39.39.9.59 1.41.59.51 0 1.02-.2 1.41-.59l7.78-7.78 2.81-2.81c.8-.78.8-2.07 0-2.86zM5.41 20L4 18.59l7.72-7.72 1.47 1.35L5.41 20z\"/>\n",
              "  </svg>\n",
              "      </button>\n",
              "      \n",
              "  <style>\n",
              "    .colab-df-container {\n",
              "      display:flex;\n",
              "      flex-wrap:wrap;\n",
              "      gap: 12px;\n",
              "    }\n",
              "\n",
              "    .colab-df-convert {\n",
              "      background-color: #E8F0FE;\n",
              "      border: none;\n",
              "      border-radius: 50%;\n",
              "      cursor: pointer;\n",
              "      display: none;\n",
              "      fill: #1967D2;\n",
              "      height: 32px;\n",
              "      padding: 0 0 0 0;\n",
              "      width: 32px;\n",
              "    }\n",
              "\n",
              "    .colab-df-convert:hover {\n",
              "      background-color: #E2EBFA;\n",
              "      box-shadow: 0px 1px 2px rgba(60, 64, 67, 0.3), 0px 1px 3px 1px rgba(60, 64, 67, 0.15);\n",
              "      fill: #174EA6;\n",
              "    }\n",
              "\n",
              "    [theme=dark] .colab-df-convert {\n",
              "      background-color: #3B4455;\n",
              "      fill: #D2E3FC;\n",
              "    }\n",
              "\n",
              "    [theme=dark] .colab-df-convert:hover {\n",
              "      background-color: #434B5C;\n",
              "      box-shadow: 0px 1px 3px 1px rgba(0, 0, 0, 0.15);\n",
              "      filter: drop-shadow(0px 1px 2px rgba(0, 0, 0, 0.3));\n",
              "      fill: #FFFFFF;\n",
              "    }\n",
              "  </style>\n",
              "\n",
              "      <script>\n",
              "        const buttonEl =\n",
              "          document.querySelector('#df-69a6caba-fb50-465f-8808-c468e0c996d1 button.colab-df-convert');\n",
              "        buttonEl.style.display =\n",
              "          google.colab.kernel.accessAllowed ? 'block' : 'none';\n",
              "\n",
              "        async function convertToInteractive(key) {\n",
              "          const element = document.querySelector('#df-69a6caba-fb50-465f-8808-c468e0c996d1');\n",
              "          const dataTable =\n",
              "            await google.colab.kernel.invokeFunction('convertToInteractive',\n",
              "                                                     [key], {});\n",
              "          if (!dataTable) return;\n",
              "\n",
              "          const docLinkHtml = 'Like what you see? Visit the ' +\n",
              "            '<a target=\"_blank\" href=https://colab.research.google.com/notebooks/data_table.ipynb>data table notebook</a>'\n",
              "            + ' to learn more about interactive tables.';\n",
              "          element.innerHTML = '';\n",
              "          dataTable['output_type'] = 'display_data';\n",
              "          await google.colab.output.renderOutput(dataTable, element);\n",
              "          const docLink = document.createElement('div');\n",
              "          docLink.innerHTML = docLinkHtml;\n",
              "          element.appendChild(docLink);\n",
              "        }\n",
              "      </script>\n",
              "    </div>\n",
              "  </div>\n",
              "  "
            ]
          },
          "metadata": {},
          "execution_count": 81
        }
      ]
    },
    {
      "cell_type": "code",
      "execution_count": 82,
      "metadata": {
        "colab": {
          "base_uri": "https://localhost:8080/"
        },
        "id": "qfSduEh6gOXA",
        "outputId": "ffe79ab8-454e-4df4-97b4-bd9e788626a9"
      },
      "outputs": [
        {
          "output_type": "execute_result",
          "data": {
            "text/plain": [
              "(4997, 3)"
            ]
          },
          "metadata": {},
          "execution_count": 82
        }
      ],
      "source": [
        "data.shape"
      ]
    },
    {
      "cell_type": "code",
      "execution_count": 83,
      "metadata": {
        "colab": {
          "base_uri": "https://localhost:8080/"
        },
        "id": "CwJHi-Bp-C7n",
        "outputId": "9332257a-d1d3-47fa-82c9-ec26468c4bad"
      },
      "outputs": [
        {
          "output_type": "stream",
          "name": "stdout",
          "text": [
            "Total reviews :  4997 \n",
            "Total Positive reviews :  2617 \n",
            "Total Negative reviews :  1070 \n",
            "Total Neutral reviews :  1310\n"
          ]
        }
      ],
      "source": [
        "print(\"Total reviews : \",len(data),\n",
        "\"\\nTotal Positive reviews : \",len(data[data.Polarity == 'positive']),\n",
        "\"\\nTotal Negative reviews : \",len(data[data.Polarity == 'negative']),\n",
        "\"\\nTotal Neutral reviews : \",len(data[data.Polarity == 'neutral']),\n",
        ")"
      ]
    },
    {
      "cell_type": "code",
      "execution_count": null,
      "metadata": {
        "colab": {
          "base_uri": "https://localhost:8080/"
        },
        "id": "w08XTtsbKDZ4",
        "outputId": "1b7a085f-ffbf-4338-9281-04a3bd2d0995"
      },
      "outputs": [
        {
          "output_type": "stream",
          "name": "stdout",
          "text": [
            "Total reviews :  5001 \n",
            "Total number of Excitement from reviews :  303 \n",
            "Total number of Sad from reviews :  901 \n",
            "Total number of Happy from reviews :  1569 \n",
            "Total number of Disgust from reviews :  259 \n",
            "Total number of Surprise from reviews :  352 \n",
            "Total number of Fear from reviews :  13 \n",
            "Total number of Other from reviews :  1354\n"
          ]
        }
      ],
      "source": [
        "print(\"Total reviews : \",len(data),\n",
        "\"\\nTotal number of Excitement from reviews : \",len(data[data.Feelings == 'excitement']),\n",
        "\"\\nTotal number of Sad from reviews : \",len(data[data.Feelings == 'sad']),\n",
        "\"\\nTotal number of Happy from reviews : \",len(data[data.Feelings == 'happy']),\n",
        "\"\\nTotal number of Disgust from reviews : \",len(data[data.Feelings == 'disgust']),\n",
        "\"\\nTotal number of Surprise from reviews : \",len(data[data.Feelings == 'surprise']),\n",
        "\"\\nTotal number of Fear from reviews : \",len(data[data.Feelings == 'fear']),\n",
        "\"\\nTotal number of Other from reviews : \",len(data[data.Feelings == 'other']),\n",
        ")"
      ]
    },
    {
      "cell_type": "code",
      "execution_count": null,
      "metadata": {
        "colab": {
          "base_uri": "https://localhost:8080/",
          "height": 272
        },
        "id": "fy2smvThYOGQ",
        "outputId": "6227dda2-93d4-402d-ed21-f7f4c9358be9"
      },
      "outputs": [
        {
          "output_type": "display_data",
          "data": {
            "text/plain": [
              "<Figure size 648x216 with 1 Axes>"
            ],
            "image/png": "[encoded data removed]"
          },
          "metadata": {}
        }
      ],
      "source": [
        "import seaborn as sns\n",
        "import matplotlib.pyplot as plt\n",
        "sns.set(font_scale=1.4)\n",
        "data['Polarity'].value_counts().plot(kind='barh', figsize=(9, 3))\n",
        "plt.xlabel(\"Number of Texts\", labelpad=12)\n",
        "plt.ylabel(\"Polarity\", labelpad=12)\n",
        "plt.yticks(rotation = 45)\n",
        "plt.title(\"Dataset Distribution\", y=1.02);"
      ]
    },
    {
      "cell_type": "code",
      "execution_count": null,
      "metadata": {
        "colab": {
          "base_uri": "https://localhost:8080/",
          "height": 272
        },
        "id": "_N5FK5abY8d4",
        "outputId": "5e8d42e3-a59f-4790-f293-d883ba88f576"
      },
      "outputs": [
        {
          "output_type": "display_data",
          "data": {
            "text/plain": [
              "<Figure size 648x216 with 1 Axes>"
            ],
            "image/png": "[encoded data removed]"
          },
          "metadata": {}
        }
      ],
      "source": [
        "import seaborn as sns\n",
        "import matplotlib.pyplot as plt\n",
        "sns.set(font_scale=1.4)\n",
        "data['Feelings'].value_counts().plot(kind='barh', figsize=(9, 3))\n",
        "plt.xlabel(\"Number of Texts\", labelpad=12)\n",
        "plt.ylabel(\"Feelings\", labelpad=12)\n",
        "plt.yticks(rotation = 45)\n",
        "plt.title(\"Dataset Distribution\", y=1.02);"
      ]
    },
    {
      "cell_type": "markdown",
      "metadata": {
        "id": "6vIShSUujk8r"
      },
      "source": [
        "Data Cleaning"
      ]
    },
    {
      "cell_type": "code",
      "execution_count": 84,
      "metadata": {
        "id": "s4VE0mIejoyJ"
      },
      "outputs": [],
      "source": [
        "import re,json,nltk\n",
        "import string\n",
        "def process_comments(Reviews): \n",
        "    Reviews = re.sub('[^\\u0980-\\u09FF]',' ',str(Reviews)) #removing unnecessary punctuation\n",
        "    stop_words = open(\"/content/drive/MyDrive/Colab Notebooks/NLP Projects/Sentiment Analysis/bangla_stopwords.txt\",encoding='utf=8').read().split('\\n')\n",
        "    tokens = re.split('\\s+',Reviews)\n",
        "    Reviews = \" \".join(word for word in tokens if word not in stop_words)\n",
        "    return Reviews"
      ]
    },
    {
      "cell_type": "code",
      "execution_count": 85,
      "metadata": {
        "colab": {
          "base_uri": "https://localhost:8080/"
        },
        "id": "f3IvEwmHkUGj",
        "outputId": "35e094d0-b260-440e-fba9-87d38707e0c7"
      },
      "outputs": [
        {
          "output_type": "stream",
          "name": "stdout",
          "text": [
            "Original:\n",
            " 0                             জমে উঠেছে গ্রুপ বি এর খেলা।\n",
            "1         এখন খেলা হপ্পে, যে দল হারবে সেই দল বাদ পড়ে যাবে\n",
            "2                                            সব কয়টা সমান\n",
            "3                        সোজা হিসাব যে হারবে সেই বাদ পরবে\n",
            "4                                              হিসাব বরবর\n",
            "                              ...                        \n",
            "4995          এত এত হেডলাইন করে লাভ অাছে স্কোয়াডে না নিয়ে\n",
            "4996    জাতীয় দলে এনে রানের ফোয়াড়া বন্ধ করার জন্য কতৃপ...\n",
            "4997                     যেমন বোলার তেমন ব্যাটসম্যান.....\n",
            "4998                       টেস্ট ও ওডিআই এর জন্য ঠিক আছে।\n",
            "4999              রানের ফোয়ারা শুধু ঘরোয় পরিবেশেই সম্ভব\n",
            "Name: Reviews, Length: 4997, dtype: object \n",
            "Cleaned:\n",
            " 0                                   জমে উঠেছে গ্রুপ খেলা \n",
            "1                          খেলা হপ্পে দল হারবে দল বাদ পড়ে\n",
            "2                                               কয়টা সমান\n",
            "3                               সোজা হিসাব হারবে বাদ পরবে\n",
            "4                                              হিসাব বরবর\n",
            "                              ...                        \n",
            "4995                            হেডলাইন লাভ অাছে স্কোয়াডে\n",
            "4996    জাতীয় দলে এনে রানের ফোয়াড়া বন্ধ কতৃপক্ষের অনুর...\n",
            "4997                                   বোলার ব্যাটসম্যান \n",
            "4998                                         টেস্ট ওডিআই \n",
            "4999                   রানের ফোয়ারা ঘরোয় পরিবেশেই সম্ভব\n",
            "Name: cleaned, Length: 4997, dtype: object \n",
            "\n"
          ]
        },
        {
          "output_type": "stream",
          "name": "stderr",
          "text": [
            "<ipython-input-85-c77f07ec395f>:2: SettingWithCopyWarning: \n",
            "A value is trying to be set on a copy of a slice from a DataFrame.\n",
            "Try using .loc[row_indexer,col_indexer] = value instead\n",
            "\n",
            "See the caveats in the documentation: https://pandas.pydata.org/pandas-docs/stable/user_guide/indexing.html#returning-a-view-versus-a-copy\n",
            "  data['cleaned'] = data['Reviews'].apply(process_comments)\n"
          ]
        }
      ],
      "source": [
        "# Apply the function into the dataframe\n",
        "data['cleaned'] = data['Reviews'].apply(process_comments)  \n",
        "print('Original:\\n',data.Reviews,'\\nCleaned:\\n',data.cleaned,'\\n')\n"
      ]
    },
    {
      "cell_type": "markdown",
      "metadata": {
        "id": "2_w0Ln7Soh05"
      },
      "source": [
        "Removing Low Length Data"
      ]
    },
    {
      "cell_type": "code",
      "execution_count": null,
      "metadata": {
        "colab": {
          "base_uri": "https://localhost:8080/"
        },
        "id": "GIoGpvSOod8w",
        "outputId": "b408fc28-ac29-4af6-c3cd-d469f98ff36b"
      },
      "outputs": [
        {
          "output_type": "stream",
          "name": "stdout",
          "text": [
            "After Cleaning: \n",
            "Removed 59 Small Reviews \n",
            "Total Reviews: 4938\n"
          ]
        },
        {
          "output_type": "stream",
          "name": "stderr",
          "text": [
            "<ipython-input-16-cf1bf28df82d>:2: SettingWithCopyWarning: \n",
            "A value is trying to be set on a copy of a slice from a DataFrame.\n",
            "Try using .loc[row_indexer,col_indexer] = value instead\n",
            "\n",
            "See the caveats in the documentation: https://pandas.pydata.org/pandas-docs/stable/user_guide/indexing.html#returning-a-view-versus-a-copy\n",
            "  df2['length'] = df2['cleaned'].apply(lambda x:len(x.split()))\n"
          ]
        }
      ],
      "source": [
        "# Length of each Reveiws\n",
        "#df2['length'] = df2['cleaned'].apply(lambda x:len(x.split()))\n",
        "# Remove the reviews with least words\n",
        "#dataset = df2.loc[df2.length>1]\n",
        "#dataset = dataset.reset_index(drop = True)\n",
        "#print(\"After Cleaning:\",\"\\nRemoved {} Small Reviews\".format(len(df2)-len(dataset)),\n",
        "      #\"\\nTotal Reviews:\",len(dataset))"
      ]
    },
    {
      "cell_type": "markdown",
      "metadata": {
        "id": "_cmQeK_wpXUq"
      },
      "source": [
        "Daraset Summary"
      ]
    },
    {
      "cell_type": "code",
      "execution_count": 86,
      "metadata": {
        "colab": {
          "base_uri": "https://localhost:8080/"
        },
        "id": "9em9zskvpb4o",
        "outputId": "08ef7274-0df5-48ce-f887-29a0f6cb7f13"
      },
      "outputs": [
        {
          "output_type": "stream",
          "name": "stdout",
          "text": [
            "\n",
            "Class Name :  positive\n",
            "Number of Documents:2617\n",
            "Number of Words:18101\n",
            "Number of Unique Words:5095\n",
            "Most Frequent Words:\n",
            "\n",
            "বাংলাদেশ\t264\n",
            "ভালো\t249\n",
            "ক্রিকেট\t191\n",
            "ভাই\t184\n",
            "বাংলাদেশের\t113\n",
            "দল\t108\n",
            "খেলা\t105\n",
            "একটা\t101\n",
            "শুভকামনা\t100\n",
            "ম্যাচ\t97\n",
            "\n",
            "Class Name :  neutral\n",
            "Number of Documents:1310\n",
            "Number of Words:8443\n",
            "Number of Unique Words:4031\n",
            "Most Frequent Words:\n",
            "\n",
            "ভালো\t66\n",
            "ভাই\t53\n",
            "একটা\t49\n",
            "কথা\t43\n",
            "দল\t42\n",
            "খেলা\t41\n",
            "শান্ত\t40\n",
            "দিয়ে\t40\n",
            "দলের\t39\n",
            "সাথে\t39\n",
            "\n",
            "Class Name :  negative\n",
            "Number of Documents:1070\n",
            "Number of Words:7113\n",
            "Number of Unique Words:3088\n",
            "Most Frequent Words:\n",
            "\n",
            "শান্ত\t111\n",
            "বাংলাদেশ\t77\n",
            "দলে\t57\n",
            "ভালো\t53\n",
            "লর্ড\t53\n",
            "দল\t50\n",
            "নান্নু\t50\n",
            "ক্রিকেট\t48\n",
            "জাতীয়\t45\n",
            "বাদ\t36\n",
            "Total Number of Unique Words:8551\n"
          ]
        }
      ],
      "source": [
        "import numpy as np\n",
        "def data_summary(data):\n",
        "    \n",
        "    \"\"\"\n",
        "    This function will print the summary of the reviews and words distribution in the dataset. \n",
        "    \n",
        "    Args:\n",
        "        dataset: list of cleaned sentences   \n",
        "        \n",
        "    Returns:\n",
        "        Number of documnets per class: int \n",
        "        Number of words per class: int\n",
        "        Number of unique words per class: int\n",
        "    \"\"\"\n",
        "    documents = []\n",
        "    words = []\n",
        "    u_words = []\n",
        "    total_u_words = [word.strip().lower() for t in list(data.cleaned) for word in t.strip().split()]\n",
        "    class_label= [k for k,v in data.Polarity.value_counts().to_dict().items()]\n",
        "  # find word list\n",
        "    for label in class_label: \n",
        "        word_list = [word.strip().lower() for t in list(data[data.Polarity==label].cleaned) for word in t.strip().split()]\n",
        "        counts = dict()\n",
        "        for word in word_list:\n",
        "                counts[word] = counts.get(word, 0)+1\n",
        "        # sort the dictionary of word list  \n",
        "        ordered = sorted(counts.items(), key= lambda item: item[1],reverse = True)\n",
        "        # Documents per class\n",
        "        documents.append(len(list(data[data.Polarity==label].cleaned)))\n",
        "        # Total Word per class\n",
        "        words.append(len(word_list))\n",
        "        # Unique words per class \n",
        "        u_words.append(len(np.unique(word_list)))\n",
        "       \n",
        "        print(\"\\nClass Name : \",label)\n",
        "        print(\"Number of Documents:{}\".format(len(list(data[data.Polarity==label].cleaned))))  \n",
        "        print(\"Number of Words:{}\".format(len(word_list))) \n",
        "        print(\"Number of Unique Words:{}\".format(len(np.unique(word_list)))) \n",
        "        print(\"Most Frequent Words:\\n\")\n",
        "        for k,v in ordered[:10]:\n",
        "              print(\"{}\\t{}\".format(k,v))\n",
        "    print(\"Total Number of Unique Words:{}\".format(len(np.unique(total_u_words))))           \n",
        "   \n",
        "    return documents,words,u_words,class_label\n",
        "\n",
        "#call the fucntion\n",
        "documents,words,u_words,class_names = data_summary(data)"
      ]
    },
    {
      "cell_type": "markdown",
      "metadata": {
        "id": "GjnWFYjrqyWZ"
      },
      "source": [
        "Dataset Summary Visualization"
      ]
    },
    {
      "cell_type": "code",
      "execution_count": null,
      "metadata": {
        "colab": {
          "base_uri": "https://localhost:8080/",
          "height": 358
        },
        "id": "P14qt5Ouq2SR",
        "outputId": "fe181029-f1c4-4628-e388-ea9e274cf903"
      },
      "outputs": [
        {
          "output_type": "display_data",
          "data": {
            "text/plain": [
              "<Figure size 432x288 with 1 Axes>"
            ],
            "image/png": "[encoded data removed]"
          },
          "metadata": {}
        }
      ],
      "source": [
        "data_matrix = pd.DataFrame({'Total Documents':documents,\n",
        "                            'Total Words':words,\n",
        "                            'Unique Words':u_words,\n",
        "                            'Class Names':class_names})\n",
        "df = pd.melt(data_matrix, id_vars=\"Class Names\", var_name=\"Category\", value_name=\"Values\")\n",
        "plt.figure(figsize=(6, 4))\n",
        "ax = plt.subplot()\n",
        "\n",
        "sns.barplot(data=df,x='Class Names', y='Values' ,hue='Category')\n",
        "ax.set_xlabel('Class Names') \n",
        "ax.set_title('Data Statistics')\n",
        "\n",
        "ax.xaxis.set_ticklabels(class_names, rotation=45);"
      ]
    },
    {
      "cell_type": "markdown",
      "metadata": {
        "id": "Msx_K2hFr3uC"
      },
      "source": [
        "Dataset Summary for Feelings"
      ]
    },
    {
      "cell_type": "code",
      "execution_count": 29,
      "metadata": {
        "colab": {
          "base_uri": "https://localhost:8080/"
        },
        "id": "PAgyI9csr8v3",
        "outputId": "e1a5a970-3bfe-48b4-bcfe-bfc00bd9b547"
      },
      "outputs": [
        {
          "output_type": "stream",
          "name": "stdout",
          "text": [
            "\n",
            "Class Name :  happy\n",
            "Number of Documents:1569\n",
            "Number of Words:10160\n",
            "Number of Unique Words:3299\n",
            "Most Frequent Words:\n",
            "\n",
            "ভালো\t192\n",
            "বাংলাদেশ\t176\n",
            "ভাই\t118\n",
            "ক্রিকেট\t108\n",
            "শুভকামনা\t96\n",
            "শুভ\t79\n",
            "অভিনন্দন\t76\n",
            "কামনা\t75\n",
            "আশা\t68\n",
            "বাংলাদেশের\t66\n",
            "\n",
            "Class Name :  other\n",
            "Number of Documents:1354\n",
            "Number of Words:8920\n",
            "Number of Unique Words:4129\n",
            "Most Frequent Words:\n",
            "\n",
            "ভালো\t71\n",
            "ভাই\t56\n",
            "একটা\t50\n",
            "কথা\t50\n",
            "দিয়ে\t44\n",
            "শান্ত\t42\n",
            "সাথে\t42\n",
            "ক্রিকেট\t40\n",
            "দলের\t39\n",
            "দল\t38\n",
            "\n",
            "Class Name :  sad\n",
            "Number of Documents:901\n",
            "Number of Words:6591\n",
            "Number of Unique Words:2808\n",
            "Most Frequent Words:\n",
            "\n",
            "বাংলাদেশ\t75\n",
            "ভালো\t70\n",
            "ক্রিকেট\t60\n",
            "ম্যাচ\t50\n",
            "খেলা\t49\n",
            "ভাই\t49\n",
            "মিস\t49\n",
            "দলের\t47\n",
            "একটা\t46\n",
            "দল\t45\n",
            "\n",
            "Class Name :  surprise\n",
            "Number of Documents:352\n",
            "Number of Words:2166\n",
            "Number of Unique Words:1221\n",
            "Most Frequent Words:\n",
            "\n",
            "বাংলাদেশ\t24\n",
            "শান্ত\t23\n",
            "নান্নু\t21\n",
            "দল\t19\n",
            "বাংলাদেশের\t16\n",
            "সেরা\t15\n",
            "ক্রিকেট\t14\n",
            "দলে\t13\n",
            "কুমিল্লা\t13\n",
            "দলের\t13\n",
            "\n",
            "Class Name :  excitement\n",
            "Number of Documents:303\n",
            "Number of Words:2060\n",
            "Number of Unique Words:1136\n",
            "Most Frequent Words:\n",
            "\n",
            "বাংলাদেশ\t49\n",
            "ক্রিকেট\t28\n",
            "ম্যাচ\t22\n",
            "বাংলাদেশের\t18\n",
            "খেলা\t16\n",
            "সাথে\t16\n",
            "অসাধারণ\t15\n",
            "সেরা\t14\n",
            "দুর্দান্ত\t13\n",
            "ভাই\t12\n",
            "\n",
            "Class Name :  disgust\n",
            "Number of Documents:259\n",
            "Number of Words:1605\n",
            "Number of Unique Words:983\n",
            "Most Frequent Words:\n",
            "\n",
            "শান্ত\t42\n",
            "লর্ড\t33\n",
            "নান্নু\t19\n",
            "দলে\t12\n",
            "একটা\t11\n",
            "ভালো\t10\n",
            "অচল\t10\n",
            "দিয়ে\t9\n",
            "প্লেয়ার\t9\n",
            "পাপন\t9\n",
            "\n",
            "Class Name :  angry\n",
            "Number of Documents:246\n",
            "Number of Words:2111\n",
            "Number of Unique Words:1271\n",
            "Most Frequent Words:\n",
            "\n",
            "ক্রিকেট\t21\n",
            "দল\t17\n",
            "দেশের\t17\n",
            "খেলা\t15\n",
            "ভাই\t13\n",
            "বাংলাদেশের\t13\n",
            "টাকা\t12\n",
            "সাথে\t12\n",
            "সোহান\t11\n",
            "শান্ত\t11\n",
            "\n",
            "Class Name :  fear\n",
            "Number of Documents:13\n",
            "Number of Words:44\n",
            "Number of Unique Words:39\n",
            "Most Frequent Words:\n",
            "\n",
            "সাকিব\t5\n",
            "ভাই\t2\n",
            "তে\t1\n",
            "বাংলাদেশ\t1\n",
            "ভালো\t1\n",
            "বিষয়ে\t1\n",
            "সন্দেহ\t1\n",
            "আলেক্স\t1\n",
            "কেরি\t1\n",
            "সমস্যা\t1\n",
            "Total Number of Unique Words:8551\n"
          ]
        }
      ],
      "source": [
        "import numpy as np\n",
        "def data_summary(data):\n",
        "    \n",
        "    \"\"\"\n",
        "    This function will print the summary of the reviews and words distribution in the dataset. \n",
        "    \n",
        "    Args:\n",
        "        dataset: list of cleaned sentences   \n",
        "        \n",
        "    Returns:\n",
        "        Number of documnets per class: int \n",
        "        Number of words per class: int\n",
        "        Number of unique words per class: int\n",
        "    \"\"\"\n",
        "    documents = []\n",
        "    words = []\n",
        "    u_words = []\n",
        "    total_u_words = [word.strip().lower() for t in list(data.cleaned) for word in t.strip().split()]\n",
        "    class_label= [k for k,v in data.Feelings.value_counts().to_dict().items()]\n",
        "  # find word list\n",
        "    for label in class_label: \n",
        "        word_list = [word.strip().lower() for t in list(data[data.Feelings==label].cleaned) for word in t.strip().split()]\n",
        "        counts = dict()\n",
        "        for word in word_list:\n",
        "                counts[word] = counts.get(word, 0)+1\n",
        "        # sort the dictionary of word list  \n",
        "        ordered = sorted(counts.items(), key= lambda item: item[1],reverse = True)\n",
        "        # Documents per class\n",
        "        documents.append(len(list(data[data.Feelings==label].cleaned)))\n",
        "        # Total Word per class\n",
        "        words.append(len(word_list))\n",
        "        # Unique words per class \n",
        "        u_words.append(len(np.unique(word_list)))\n",
        "       \n",
        "        print(\"\\nClass Name : \",label)\n",
        "        print(\"Number of Documents:{}\".format(len(list(data[data.Feelings==label].cleaned))))  \n",
        "        print(\"Number of Words:{}\".format(len(word_list))) \n",
        "        print(\"Number of Unique Words:{}\".format(len(np.unique(word_list)))) \n",
        "        print(\"Most Frequent Words:\\n\")\n",
        "        for k,v in ordered[:10]:\n",
        "              print(\"{}\\t{}\".format(k,v))\n",
        "    print(\"Total Number of Unique Words:{}\".format(len(np.unique(total_u_words))))           \n",
        "   \n",
        "    return documents,words,u_words,class_label\n",
        "\n",
        "#call the fucntion\n",
        "documents,words,u_words,class_names = data_summary(data)"
      ]
    },
    {
      "cell_type": "markdown",
      "metadata": {
        "id": "7ypm-Cfgsu9A"
      },
      "source": [
        "Dataset Summary Visualization for Feelings"
      ]
    },
    {
      "cell_type": "code",
      "execution_count": null,
      "metadata": {
        "colab": {
          "base_uri": "https://localhost:8080/",
          "height": 372
        },
        "id": "NhaQHHJVsz5w",
        "outputId": "30ea81ab-05cf-48da-c9ca-7d7c2d31291d"
      },
      "outputs": [
        {
          "output_type": "display_data",
          "data": {
            "text/plain": [
              "<Figure size 432x288 with 1 Axes>"
            ],
            "image/png": "[encoded data removed]"
          },
          "metadata": {}
        }
      ],
      "source": [
        "data_matrix = pd.DataFrame({'Total Documents':documents,\n",
        "                            'Total Words':words,\n",
        "                            'Unique Words':u_words,\n",
        "                            'Feelings Names':class_names})\n",
        "df = pd.melt(data_matrix, id_vars=\"Feelings Names\", var_name=\"Category\", value_name=\"Values\")\n",
        "plt.figure(figsize=(6, 4))\n",
        "ax = plt.subplot()\n",
        "\n",
        "sns.barplot(data=df,x='Feelings Names', y='Values' ,hue='Category')\n",
        "ax.set_xlabel('Feelings Names') \n",
        "ax.set_title('Data Statistics')\n",
        "\n",
        "ax.xaxis.set_ticklabels(class_names, rotation=45);"
      ]
    },
    {
      "cell_type": "markdown",
      "metadata": {
        "id": "gc53mYSIt1cC"
      },
      "source": [
        "Comment Length Distribution"
      ]
    },
    {
      "cell_type": "code",
      "execution_count": null,
      "metadata": {
        "id": "WEkS4UrLudej"
      },
      "outputs": [],
      "source": [
        "# Calculate the Review of each of the Review\n",
        "import matplotlib.pyplot as plt\n",
        "data['ReviewLength'] = data.cleaned.apply(lambda x:len(x.split()))\n",
        "frequency = dict()\n",
        "for i in data.ReviewLength:\n",
        "    frequency[i] = frequency.get(i, 0)+1\n",
        "\n",
        "plt.bar(frequency.keys(), frequency.values(), color =\"b\")\n",
        "plt.xlim(1, 135)\n",
        "# in this notbook color is not working but it should work.\n",
        "plt.xlabel('Lenght of the Texts')\n",
        "plt.ylabel('Frequency')\n",
        "plt.title('Length-Frequency Distribution')\n",
        "plt.show()  \n",
        "print(f\"Maximum Length of a review: {max(data.ReviewLength)}\")\n",
        "print(f\"Minimum Length of a review: {min(data.ReviewLength)}\")\n",
        "print(f\"Average Length of a reviews: {round(np.mean(data.ReviewLength),0)}\")"
      ]
    },
    {
      "cell_type": "markdown",
      "metadata": {
        "id": "Y-UCJfJGwU44"
      },
      "source": [
        "Take only Positive and Negative Class for Model Building"
      ]
    },
    {
      "cell_type": "code",
      "execution_count": 88,
      "metadata": {
        "colab": {
          "base_uri": "https://localhost:8080/"
        },
        "id": "lbIo2_ccyn8B",
        "outputId": "e250dd0b-2fd6-44de-ab38-b733c690874f"
      },
      "outputs": [
        {
          "output_type": "execute_result",
          "data": {
            "text/plain": [
              "neutral     1310\n",
              "negative    1070\n",
              "Name: Polarity, dtype: int64"
            ]
          },
          "metadata": {},
          "execution_count": 88
        }
      ],
      "source": [
        "neutral = data[data.Polarity == 'neutral']\n",
        "negative = data[data.Polarity == 'negative'][:4000]\n",
        "data = neutral.append(negative,ignore_index=True)\n",
        "data.Polarity.value_counts()"
      ]
    },
    {
      "cell_type": "markdown",
      "source": [
        "Label Encoding and Dataset Spliting"
      ],
      "metadata": {
        "id": "XyJIZjrE_Qed"
      }
    },
    {
      "cell_type": "code",
      "source": [
        "#==================================================\n",
        "                                       ################# Label Encoding Function #########\n",
        "                                       #==================================================\n",
        "\n",
        "def label_encoding(Polarity,bool):\n",
        "    \"\"\"\n",
        "    This function will return the encoded labels in array format. \n",
        "    \n",
        "    Args:\n",
        "        sentiment: series of class names(str)\n",
        "        bool: boolean (True or False)\n",
        "        \n",
        "    Returns:\n",
        "        labels: numpy array \n",
        "    \"\"\"\n",
        "    le = LabelEncoder()\n",
        "    le.fit(Polarity)\n",
        "    encoded_labels = le.transform(Polarity)\n",
        "    labels = np.array(encoded_labels) # Converting into numpy array\n",
        "    class_names =le.classes_ ## Define the class names again\n",
        "    if bool == True:\n",
        "        print(\"\\n\\t\\t\\t===== Label Encoding =====\",\"\\nClass Names:-->\",le.classes_)\n",
        "        for i in sample_data:\n",
        "            print(Polarity[i],' ', encoded_labels[i],'\\n')\n",
        "\n",
        "    return labels\n",
        "\n",
        "\n",
        "\n",
        "                           #===========================================================\n",
        "                           ################# Dataset Splitting Function ###############\n",
        "                           #=========================================================== \n",
        "\n",
        "def dataset_split(feature_space,Polarity):\n",
        "    \"\"\"\n",
        "    This function will return the splitted (80%-20%) feature vector . \n",
        "    \n",
        "    Args:\n",
        "        feature_space: calcuated feature vector (sparse matrix)\n",
        "        sentiment: encoded lables (array) \n",
        "        \n",
        "    Returns:\n",
        "        X_train: training feature vector (sparse matrix)\n",
        "        X_test : testing feature vector (sparse matrix)\n",
        "        y_train: training encoded labels (array) \n",
        "        y_test : testing encoded labels (array) \n",
        "    \"\"\"\n",
        "\n",
        "    X_train,X_test,y_train,y_test = train_test_split(feature_space,Polarity,train_size = 0.9,\n",
        "                                                  test_size = 0.1,random_state =0)\n",
        "    print(\"Feature Size :======>\",X_train.shape[1])\n",
        "    print(\"\\nDataset Distribution:\\n\")\n",
        "    print(\"\\tSet Name\",\"\\t\\tSize\")\n",
        "    print(\"\\t========\\t\\t======\")\n",
        "\n",
        "    print(\"\\tFull\\t\\t\\t\",feature_space.shape[0],\n",
        "        \"\\n\\tTraining\\t\\t\",X_train.shape[0],\n",
        "        \"\\n\\tTest\\t\\t\\t\",X_test.shape[0])\n",
        "  \n",
        "    return X_train,X_test,y_train,y_test"
      ],
      "metadata": {
        "id": "TEnGyyr0-t5d"
      },
      "execution_count": 89,
      "outputs": []
    },
    {
      "cell_type": "code",
      "source": [
        "data.cleaned = data.cleaned.apply(lambda x:x.replace('\\n',' '))"
      ],
      "metadata": {
        "id": "2D8TLuatAoHs"
      },
      "execution_count": 90,
      "outputs": []
    },
    {
      "cell_type": "markdown",
      "source": [
        "Model Building Using Machine Learning Feature Extraction Using TF-IDF"
      ],
      "metadata": {
        "id": "J6PRA_pEBBk9"
      }
    },
    {
      "cell_type": "code",
      "source": [
        "#======================================\n",
        "                                            ##### Unigram Tf-idf value calculation\n",
        "                                            #======================================\n",
        "            \n",
        "def calc_gram_tfidf(Reviews,gram):\n",
        "    \"\"\"\n",
        "    This function will return the tf-idf value of the respective gram features . \n",
        "    \n",
        "    Args:\n",
        "        reviews: a list of cleaned reviews   \n",
        "        \n",
        "    Returns:\n",
        "        tfidf: a instance of TfidfVectorizer\n",
        "        X : Unigram Feature Vector (sparse matrix)\n",
        "    \"\"\"\n",
        "    tfidf = TfidfVectorizer(ngram_range=gram,use_idf=True,tokenizer=lambda x: x.split()) \n",
        "    X = tfidf.fit_transform(Reviews)\n",
        "    \n",
        "    return tfidf,X"
      ],
      "metadata": {
        "id": "VqpKBm_mBCoX"
      },
      "execution_count": 91,
      "outputs": []
    },
    {
      "cell_type": "code",
      "source": [
        "from sklearn.linear_model import LogisticRegression\n",
        "from sklearn.tree import DecisionTreeClassifier\n",
        "from sklearn.ensemble import RandomForestClassifier\n",
        "from sklearn.naive_bayes import MultinomialNB\n",
        "from sklearn.neighbors import KNeighborsClassifier\n",
        "from sklearn.svm import SVC\n",
        "from sklearn.linear_model import SGDClassifier\n",
        "from sklearn.metrics import classification_report,accuracy_score,precision_score,recall_score,f1_score\n",
        "from sklearn.metrics import roc_curve, roc_auc_score\n",
        "from sklearn.metrics import average_precision_score,roc_auc_score, roc_curve, precision_recall_curve"
      ],
      "metadata": {
        "id": "W3xvmNZbBUSz"
      },
      "execution_count": 92,
      "outputs": []
    },
    {
      "cell_type": "code",
      "source": [
        "#============================================\n",
        "                                              #########  Classifiers Defination  #########\n",
        "                                              #============================================\n",
        "def ml_models_defination(): \n",
        "    \"\"\"\n",
        "    This function consists the models defination for All gram Features\n",
        "    \n",
        "    Retuns:\n",
        "        ml_models: list of models\n",
        "        model_names: list of model_names\n",
        "    \n",
        "    \"\"\"\n",
        "    \n",
        "    lr_model = LogisticRegression(random_state = 123)\n",
        "    dt_model = DecisionTreeClassifier(criterion = 'entropy', random_state = 0)\n",
        "    rf_model = RandomForestClassifier(n_estimators=100, criterion ='entropy', random_state = 0)\n",
        "    mnb_model = MultinomialNB(alpha=0.15)\n",
        "    knn_model = KNeighborsClassifier(n_neighbors=3, metric = 'minkowski')\n",
        "    lsvm_model = SVC(kernel = 'linear',C = 0.2, probability=True, random_state = 0)\n",
        "    ksvm_model = SVC(C= 1000,kernel = 'rbf',probability=True, gamma = 0.00015, random_state = 0)\n",
        "    model_names = ['Logistic Regression','Decision Tree','Random Forest','Naive Bayes','KNN','Linear SVM','Kernel SVM']\n",
        "    #model_names = ['Logistic Regression']\n",
        "    # Create list of models\n",
        "    ml_models = [lr_model,dt_model,rf_model,mnb_model,knn_model,lsvm_model,ksvm_model]\n",
        "    #ml_models = [lr_model]\n",
        "    return ml_models,model_names \n",
        "\n",
        "\n",
        "                                          #============================================\n",
        "                                           ####### Model Evaluation Function ############\n",
        "                                           #=============================================\n",
        "\n",
        "def model_performace(model,X_train,X_test,y_train,y_test):\n",
        "    \"\"\"\n",
        "    This function will return the performance parameter values of each ML models.\n",
        "    Performance parameters are Accuracy, F1-Score, Precision, Recall.\n",
        "    \n",
        "    Args:\n",
        "        model: a ML model instance\n",
        "        X_train: training feature vector (sparse matrix)\n",
        "        X_test : testing feature vector (sparse matrix)\n",
        "        y_train: training encoded labels (array) \n",
        "        y_test : testing encoded labels (array) \n",
        "        \n",
        "    Returns:\n",
        "        my_dict: a dictionary of all the parameters for each models\n",
        "    \"\"\"\n",
        "    my_dict = {}\n",
        "    model.fit(X_train,y_train)\n",
        "    # Prediction\n",
        "    pred_y = model.predict(X_test)\n",
        "    my_dict['Accuracy'] = round(accuracy_score(y_test, pred_y),4)*100 \n",
        "    my_dict['Precision'] = round(precision_score(y_test, pred_y),4)*100 \n",
        "    my_dict['Recall'] = round(recall_score(y_test, pred_y),4)*100 \n",
        "    my_dict['F1 Score'] = round(f1_score(y_test, pred_y),4)*100 \n",
        "    \n",
        "    return my_dict  \n",
        "\n",
        "                                        #========================================\n",
        "                                        #### Model Performane into Dataframe #####\n",
        "                                        #=========================================\n",
        "            \n",
        "def performance_table(performance_dict):\n",
        "    \"\"\"\n",
        "    This function will create a dataframe of all the performance parameters.\n",
        "    \n",
        "    Args:\n",
        "        performance_dict: a dictionary of all the parameters for each models\n",
        "        \n",
        "    Returns:\n",
        "        performance_df: a dataframe\n",
        "    \"\"\"\n",
        "\n",
        "    acc_list = []\n",
        "    pr_list = []\n",
        "    re_list = []\n",
        "    f1_list = []\n",
        "    for i in performance_dict.keys():\n",
        "        acc_list.append(performance_dict[i]['Accuracy'])\n",
        "        pr_list.append(performance_dict[i]['Precision'])\n",
        "        re_list.append(performance_dict[i]['Recall'])\n",
        "        f1_list.append(performance_dict[i]['F1 Score'])\n",
        "\n",
        "    # Create a dataframe\n",
        "    model_names = ['LR','DT','RF','MNB','KNN','Linear SVM','RBF SVM']\n",
        "    performance_df = pd.DataFrame({'Accuracy':acc_list,'Precision':pr_list,\n",
        "                                   'Recall':re_list,'F1 Score':f1_list,\n",
        "                                   'Model Name':model_names })\n",
        "    return performance_df"
      ],
      "metadata": {
        "id": "Oh7AmPdGBibT"
      },
      "execution_count": 93,
      "outputs": []
    },
    {
      "cell_type": "markdown",
      "source": [
        "Model Training"
      ],
      "metadata": {
        "id": "AuH9pS2GBu8L"
      }
    },
    {
      "cell_type": "code",
      "source": [
        "## save the performance of the model for each gram feature \n",
        "import json\n",
        "gram_names = ['Unigram','Bigram','Trigram']\n",
        "ngrams = [(1,1),(1,2),(1,3)]\n",
        "for i,gram in enumerate(ngrams):\n",
        "    average='micro'\n",
        "    tfidf,feature = calc_gram_tfidf(data.cleaned,gram)\n",
        "    labels = label_encoding(data.Polarity,False)\n",
        "    X_train,X_test,y_train,y_test = dataset_split(feature,labels) \n",
        "    ml_models,model_names = ml_models_defination()\n",
        "    # call model accuracy function and save the metrices into a dictionary\n",
        "    accuracy = {f'{model_names[j]}':model_performace(model,X_train,X_test,y_train,y_test) for j,model in enumerate(ml_models)}\n",
        "    #Save the performance parameter into json file\n",
        "    with open(path+f'ml_performance_{gram_names[i]}.json', 'w') as f:\n",
        "           json.dump(accuracy, f)"
      ],
      "metadata": {
        "colab": {
          "base_uri": "https://localhost:8080/"
        },
        "id": "wZKVTnY7OHPy",
        "outputId": "e2db9cb7-aa20-4516-e68f-d6f93cbd41aa"
      },
      "execution_count": 94,
      "outputs": [
        {
          "output_type": "stream",
          "name": "stdout",
          "text": [
            "Feature Size :======> 5813\n",
            "\n",
            "Dataset Distribution:\n",
            "\n",
            "\tSet Name \t\tSize\n",
            "\t========\t\t======\n",
            "\tFull\t\t\t 2380 \n",
            "\tTraining\t\t 2142 \n",
            "\tTest\t\t\t 238\n",
            "Feature Size :======> 17425\n",
            "\n",
            "Dataset Distribution:\n",
            "\n",
            "\tSet Name \t\tSize\n",
            "\t========\t\t======\n",
            "\tFull\t\t\t 2380 \n",
            "\tTraining\t\t 2142 \n",
            "\tTest\t\t\t 238\n",
            "Feature Size :======> 27670\n",
            "\n",
            "Dataset Distribution:\n",
            "\n",
            "\tSet Name \t\tSize\n",
            "\t========\t\t======\n",
            "\tFull\t\t\t 2380 \n",
            "\tTraining\t\t 2142 \n",
            "\tTest\t\t\t 238\n"
          ]
        }
      ]
    },
    {
      "cell_type": "markdown",
      "source": [
        "Performance Table"
      ],
      "metadata": {
        "id": "lVGJzMylND5K"
      }
    },
    {
      "cell_type": "code",
      "source": [
        "# Load all the json files\n",
        "gram_names = ['Unigram','Bigram','Trigram']\n",
        "\n",
        "for gram in gram_names:\n",
        "  accuracy = json.load(open(path+f'ml_performance_{gram}.json'))\n",
        "  table = performance_table(accuracy)\n",
        "  print(f\"\\n========== Performace Table for {gram} feature:========\\n\",table)\n",
        "  print(f\"\\n========In case of {gram} feature:========\\n\")\n",
        "  print(f\"Highest Accuracy achieved by {table['Model Name'][table.Accuracy.idxmax(axis = 0)]} at = {max(table.Accuracy)}\")\n",
        "  print(f\"Highest F1-Score achieved by {table['Model Name'][table['F1 Score'].idxmax(axis = 0)]} at = {max(table['F1 Score'] )}\")\n",
        "  print(f\"Highest Precision Score achieved by {table['Model Name'][table['Precision'].idxmax(axis = 0)]} at = {max(table['Precision'] )}\")\n",
        "  print(f\"Highest Recall Score achieved by {table['Model Name'][table['Recall'].idxmax(axis = 0)]} at = {max(table['Recall'] )}\")"
      ],
      "metadata": {
        "colab": {
          "base_uri": "https://localhost:8080/"
        },
        "id": "iHqYl8PTRdWl",
        "outputId": "c1a5d196-baf4-497c-f700-ed02c3d372fa"
      },
      "execution_count": 95,
      "outputs": [
        {
          "output_type": "stream",
          "name": "stdout",
          "text": [
            "\n",
            "========== Performace Table for Unigram feature:========\n",
            "    Accuracy  Precision  Recall  F1 Score  Model Name\n",
            "0     70.17      70.55   83.33     76.41          LR\n",
            "1     63.87      69.40   67.39     68.38          DT\n",
            "2     72.27      72.78   83.33     77.70          RF\n",
            "3     69.33      77.78   65.94     71.37         MNB\n",
            "4     59.66      58.97  100.00     74.19         KNN\n",
            "5     63.03      61.68   95.65     75.00  Linear SVM\n",
            "6     68.49      65.83   94.93     77.74     RBF SVM\n",
            "\n",
            "========In case of Unigram feature:========\n",
            "\n",
            "Highest Accuracy achieved by RF at = 72.27\n",
            "Highest F1-Score achieved by RBF SVM at = 77.74\n",
            "Highest Precision Score achieved by MNB at = 77.78\n",
            "Highest Recall Score achieved by KNN at = 100.0\n",
            "\n",
            "========== Performace Table for Bigram feature:========\n",
            "    Accuracy  Precision  Recall  F1 Score  Model Name\n",
            "0     71.01      68.65   92.03     78.64          LR\n",
            "1     64.71      69.01   71.01     70.00          DT\n",
            "2     68.07      68.02   84.78     75.48          RF\n",
            "3     69.75      79.46   64.49     71.20         MNB\n",
            "4     58.82      58.47  100.00     73.80         KNN\n",
            "5     58.40      58.30   99.28     73.46  Linear SVM\n",
            "6     62.18      60.81   97.83     75.00     RBF SVM\n",
            "\n",
            "========In case of Bigram feature:========\n",
            "\n",
            "Highest Accuracy achieved by LR at = 71.00999999999999\n",
            "Highest F1-Score achieved by LR at = 78.64\n",
            "Highest Precision Score achieved by MNB at = 79.46\n",
            "Highest Recall Score achieved by KNN at = 100.0\n",
            "\n",
            "========== Performace Table for Trigram feature:========\n",
            "    Accuracy  Precision  Recall  F1 Score  Model Name\n",
            "0     70.17      67.54   93.48     78.42          LR\n",
            "1     65.55      69.44   72.46     70.92          DT\n",
            "2     67.65      66.49   89.13     76.16          RF\n",
            "3     70.17      79.13   65.94     71.94         MNB\n",
            "4     58.82      58.47  100.00     73.80         KNN\n",
            "5     58.82      58.47  100.00     73.80  Linear SVM\n",
            "6     59.24      58.80   99.28     73.85     RBF SVM\n",
            "\n",
            "========In case of Trigram feature:========\n",
            "\n",
            "Highest Accuracy achieved by LR at = 70.17\n",
            "Highest F1-Score achieved by LR at = 78.42\n",
            "Highest Precision Score achieved by MNB at = 79.13\n",
            "Highest Recall Score achieved by KNN at = 100.0\n"
          ]
        }
      ]
    },
    {
      "cell_type": "code",
      "source": [
        "import matplotlib.pyplot as plt\n",
        "gram_names = ['Unigram','Bigram','Trigram']\n",
        "\n",
        "for gram in gram_names:\n",
        "  accuracy = json.load(open(path+f'ml_performance_{gram}.json'))\n",
        "  table = performance_table(accuracy)\n",
        "  df = pd.melt(table[['Accuracy','F1 Score','Model Name']], id_vars=\"Model Name\", var_name=\"Category\", value_name=\"Values\")\n",
        "  plt.figure(figsize=(8,6))\n",
        "  ax = plt.subplot()\n",
        "  sns.barplot(data=df,x='Model Name', y='Values' ,hue='Category')\n",
        "  ax.set_xlabel('Model Name') \n",
        "  ax.set_title(f'Comparison of Accuracy and F1-Score Value for {gram} Feature')\n",
        "  ax.set_ylim([10,80])\n",
        "  ax.xaxis.set_ticklabels(table['Model Name'], rotation=45);"
      ],
      "metadata": {
        "colab": {
          "base_uri": "https://localhost:8080/",
          "height": 1000
        },
        "id": "2uO4WoB3Rmb_",
        "outputId": "4a9118e7-2c43-4930-bada-db489bf9b9cd"
      },
      "execution_count": 97,
      "outputs": [
        {
          "output_type": "display_data",
          "data": {
            "text/plain": [
              "<Figure size 576x432 with 1 Axes>"
            ],
            "image/png": "[encoded data removed]"
          },
          "metadata": {
            "needs_background": "light"
          }
        },
        {
          "output_type": "display_data",
          "data": {
            "text/plain": [
              "<Figure size 576x432 with 1 Axes>"
            ],
            "image/png": "[encoded data removed]"
          },
          "metadata": {
            "needs_background": "light"
          }
        },
        {
          "output_type": "display_data",
          "data": {
            "text/plain": [
              "<Figure size 576x432 with 1 Axes>"
            ],
            "image/png": "[encoded data removed]"
          },
          "metadata": {
            "needs_background": "light"
          }
        }
      ]
    }
  ],
  "metadata": {
    "colab": {
      "provenance": [],
      "authorship_tag": "ABX9TyPBH+QaseMY6rvTtQt2G00m",
      "include_colab_link": true
    },
    "kernelspec": {
      "display_name": "Python 3",
      "name": "python3"
    },
    "language_info": {
      "name": "python"
    }
  },
  "nbformat": 4,
  "nbformat_minor": 0
}