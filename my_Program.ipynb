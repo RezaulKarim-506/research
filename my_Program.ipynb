{
  "nbformat": 4,
  "nbformat_minor": 0,
  "metadata": {
    "colab": {
      "provenance": [],
      "authorship_tag": "ABX9TyM1J0M8SSD3bcdVBlSMsHJ5",
      "include_colab_link": true
    },
    "kernelspec": {
      "name": "python3",
      "display_name": "Python 3"
    },
    "language_info": {
      "name": "python"
    }
  },
  "cells": [
    {
      "cell_type": "markdown",
      "metadata": {
        "id": "view-in-github",
        "colab_type": "text"
      },
      "source": [
        "<a href=\"https://colab.research.google.com/github/RezaulKarim-506/research/blob/master/my_Program.ipynb\" target=\"_parent\"><img src=\"https://colab.research.google.com/assets/colab-badge.svg\" alt=\"Open In Colab\"/></a>"
      ]
    },
    {
      "cell_type": "code",
      "source": [
        "from google.colab import drive"
      ],
      "metadata": {
        "id": "OEFHkUAaJ5gz"
      },
      "execution_count": 3,
      "outputs": []
    },
    {
      "cell_type": "code",
      "source": [
        "drive.mount('/content/drive')"
      ],
      "metadata": {
        "colab": {
          "base_uri": "https://localhost:8080/"
        },
        "id": "p5sZiAp3KIDS",
        "outputId": "d64bf34c-fd80-4aa1-c9c9-4b7f62c4dbd6"
      },
      "execution_count": 4,
      "outputs": [
        {
          "output_type": "stream",
          "name": "stdout",
          "text": [
            "Mounted at /content/drive\n"
          ]
        }
      ]
    },
    {
      "cell_type": "code",
      "source": [
        "import pandas as pd"
      ],
      "metadata": {
        "id": "l4LnqBBQG2To"
      },
      "execution_count": 5,
      "outputs": []
    },
    {
      "cell_type": "code",
      "source": [
        "data = pd.read_csv('/content/drive/MyDrive/Data/dataset_for_Bangla_as_text.csv',encoding = \"utf-16\", sep = \"\\t\")"
      ],
      "metadata": {
        "id": "drD5MlSGMHzq"
      },
      "execution_count": 6,
      "outputs": []
    },
    {
      "cell_type": "code",
      "source": [
        "data.head()"
      ],
      "metadata": {
        "colab": {
          "base_uri": "https://localhost:8080/",
          "height": 206
        },
        "id": "fILhu8B4cmpe",
        "outputId": "c72a915d-47a6-4a54-87d2-450193065047"
      },
      "execution_count": 7,
      "outputs": [
        {
          "output_type": "execute_result",
          "data": {
            "text/plain": [
              "                                           Reviews    Feelings  Polarity\n",
              "0                      জমে উঠেছে গ্রুপ বি এর খেলা।  excitement  positive\n",
              "1  এখন খেলা হপ্পে, যে দল হারবে সেই দল বাদ পড়ে যাবে  excitement   neutral\n",
              "2                                     সব কয়টা সমান       other   neutral\n",
              "3                 সোজা হিসাব যে হারবে সেই বাদ পরবে         sad  positive\n",
              "4                                       হিসাব বরবর       other   neutral"
            ],
            "text/html": [
              "\n",
              "  <div id=\"df-c47a9cbf-0b04-446e-aeee-b03048350c7c\">\n",
              "    <div class=\"colab-df-container\">\n",
              "      <div>\n",
              "<style scoped>\n",
              "    .dataframe tbody tr th:only-of-type {\n",
              "        vertical-align: middle;\n",
              "    }\n",
              "\n",
              "    .dataframe tbody tr th {\n",
              "        vertical-align: top;\n",
              "    }\n",
              "\n",
              "    .dataframe thead th {\n",
              "        text-align: right;\n",
              "    }\n",
              "</style>\n",
              "<table border=\"1\" class=\"dataframe\">\n",
              "  <thead>\n",
              "    <tr style=\"text-align: right;\">\n",
              "      <th></th>\n",
              "      <th>Reviews</th>\n",
              "      <th>Feelings</th>\n",
              "      <th>Polarity</th>\n",
              "    </tr>\n",
              "  </thead>\n",
              "  <tbody>\n",
              "    <tr>\n",
              "      <th>0</th>\n",
              "      <td>জমে উঠেছে গ্রুপ বি এর খেলা।</td>\n",
              "      <td>excitement</td>\n",
              "      <td>positive</td>\n",
              "    </tr>\n",
              "    <tr>\n",
              "      <th>1</th>\n",
              "      <td>এখন খেলা হপ্পে, যে দল হারবে সেই দল বাদ পড়ে যাবে</td>\n",
              "      <td>excitement</td>\n",
              "      <td>neutral</td>\n",
              "    </tr>\n",
              "    <tr>\n",
              "      <th>2</th>\n",
              "      <td>সব কয়টা সমান</td>\n",
              "      <td>other</td>\n",
              "      <td>neutral</td>\n",
              "    </tr>\n",
              "    <tr>\n",
              "      <th>3</th>\n",
              "      <td>সোজা হিসাব যে হারবে সেই বাদ পরবে</td>\n",
              "      <td>sad</td>\n",
              "      <td>positive</td>\n",
              "    </tr>\n",
              "    <tr>\n",
              "      <th>4</th>\n",
              "      <td>হিসাব বরবর</td>\n",
              "      <td>other</td>\n",
              "      <td>neutral</td>\n",
              "    </tr>\n",
              "  </tbody>\n",
              "</table>\n",
              "</div>\n",
              "      <button class=\"colab-df-convert\" onclick=\"convertToInteractive('df-c47a9cbf-0b04-446e-aeee-b03048350c7c')\"\n",
              "              title=\"Convert this dataframe to an interactive table.\"\n",
              "              style=\"display:none;\">\n",
              "        \n",
              "  <svg xmlns=\"http://www.w3.org/2000/svg\" height=\"24px\"viewBox=\"0 0 24 24\"\n",
              "       width=\"24px\">\n",
              "    <path d=\"M0 0h24v24H0V0z\" fill=\"none\"/>\n",
              "    <path d=\"M18.56 5.44l.94 2.06.94-2.06 2.06-.94-2.06-.94-.94-2.06-.94 2.06-2.06.94zm-11 1L8.5 8.5l.94-2.06 2.06-.94-2.06-.94L8.5 2.5l-.94 2.06-2.06.94zm10 10l.94 2.06.94-2.06 2.06-.94-2.06-.94-.94-2.06-.94 2.06-2.06.94z\"/><path d=\"M17.41 7.96l-1.37-1.37c-.4-.4-.92-.59-1.43-.59-.52 0-1.04.2-1.43.59L10.3 9.45l-7.72 7.72c-.78.78-.78 2.05 0 2.83L4 21.41c.39.39.9.59 1.41.59.51 0 1.02-.2 1.41-.59l7.78-7.78 2.81-2.81c.8-.78.8-2.07 0-2.86zM5.41 20L4 18.59l7.72-7.72 1.47 1.35L5.41 20z\"/>\n",
              "  </svg>\n",
              "      </button>\n",
              "      \n",
              "  <style>\n",
              "    .colab-df-container {\n",
              "      display:flex;\n",
              "      flex-wrap:wrap;\n",
              "      gap: 12px;\n",
              "    }\n",
              "\n",
              "    .colab-df-convert {\n",
              "      background-color: #E8F0FE;\n",
              "      border: none;\n",
              "      border-radius: 50%;\n",
              "      cursor: pointer;\n",
              "      display: none;\n",
              "      fill: #1967D2;\n",
              "      height: 32px;\n",
              "      padding: 0 0 0 0;\n",
              "      width: 32px;\n",
              "    }\n",
              "\n",
              "    .colab-df-convert:hover {\n",
              "      background-color: #E2EBFA;\n",
              "      box-shadow: 0px 1px 2px rgba(60, 64, 67, 0.3), 0px 1px 3px 1px rgba(60, 64, 67, 0.15);\n",
              "      fill: #174EA6;\n",
              "    }\n",
              "\n",
              "    [theme=dark] .colab-df-convert {\n",
              "      background-color: #3B4455;\n",
              "      fill: #D2E3FC;\n",
              "    }\n",
              "\n",
              "    [theme=dark] .colab-df-convert:hover {\n",
              "      background-color: #434B5C;\n",
              "      box-shadow: 0px 1px 3px 1px rgba(0, 0, 0, 0.15);\n",
              "      filter: drop-shadow(0px 1px 2px rgba(0, 0, 0, 0.3));\n",
              "      fill: #FFFFFF;\n",
              "    }\n",
              "  </style>\n",
              "\n",
              "      <script>\n",
              "        const buttonEl =\n",
              "          document.querySelector('#df-c47a9cbf-0b04-446e-aeee-b03048350c7c button.colab-df-convert');\n",
              "        buttonEl.style.display =\n",
              "          google.colab.kernel.accessAllowed ? 'block' : 'none';\n",
              "\n",
              "        async function convertToInteractive(key) {\n",
              "          const element = document.querySelector('#df-c47a9cbf-0b04-446e-aeee-b03048350c7c');\n",
              "          const dataTable =\n",
              "            await google.colab.kernel.invokeFunction('convertToInteractive',\n",
              "                                                     [key], {});\n",
              "          if (!dataTable) return;\n",
              "\n",
              "          const docLinkHtml = 'Like what you see? Visit the ' +\n",
              "            '<a target=\"_blank\" href=https://colab.research.google.com/notebooks/data_table.ipynb>data table notebook</a>'\n",
              "            + ' to learn more about interactive tables.';\n",
              "          element.innerHTML = '';\n",
              "          dataTable['output_type'] = 'display_data';\n",
              "          await google.colab.output.renderOutput(dataTable, element);\n",
              "          const docLink = document.createElement('div');\n",
              "          docLink.innerHTML = docLinkHtml;\n",
              "          element.appendChild(docLink);\n",
              "        }\n",
              "      </script>\n",
              "    </div>\n",
              "  </div>\n",
              "  "
            ]
          },
          "metadata": {},
          "execution_count": 7
        }
      ]
    },
    {
      "cell_type": "code",
      "source": [
        "data"
      ],
      "metadata": {
        "colab": {
          "base_uri": "https://localhost:8080/",
          "height": 424
        },
        "id": "anC2nWHteTY7",
        "outputId": "c5e3b487-3b1b-42ac-c6d1-250f2efbef7b"
      },
      "execution_count": 8,
      "outputs": [
        {
          "output_type": "execute_result",
          "data": {
            "text/plain": [
              "                                                Reviews    Feelings  Polarity\n",
              "0                           জমে উঠেছে গ্রুপ বি এর খেলা।  excitement  positive\n",
              "1       এখন খেলা হপ্পে, যে দল হারবে সেই দল বাদ পড়ে যাবে  excitement   neutral\n",
              "2                                          সব কয়টা সমান       other   neutral\n",
              "3                      সোজা হিসাব যে হারবে সেই বাদ পরবে         sad  positive\n",
              "4                                            হিসাব বরবর       other   neutral\n",
              "...                                                 ...         ...       ...\n",
              "4996  জাতীয় দলে এনে রানের ফোয়াড়া বন্ধ করার জন্য কতৃপ...         sad  positive\n",
              "4997                   যেমন বোলার তেমন ব্যাটসম্যান.....       happy  positive\n",
              "4998                     টেস্ট ও ওডিআই এর জন্য ঠিক আছে।       other   neutral\n",
              "4999            রানের ফোয়ারা শুধু ঘরোয় পরিবেশেই সম্ভব       happy  negative\n",
              "5000                                                NaN         NaN       NaN\n",
              "\n",
              "[5001 rows x 3 columns]"
            ],
            "text/html": [
              "\n",
              "  <div id=\"df-a5d47bcb-e4f6-48d7-8525-f4ee51fb0979\">\n",
              "    <div class=\"colab-df-container\">\n",
              "      <div>\n",
              "<style scoped>\n",
              "    .dataframe tbody tr th:only-of-type {\n",
              "        vertical-align: middle;\n",
              "    }\n",
              "\n",
              "    .dataframe tbody tr th {\n",
              "        vertical-align: top;\n",
              "    }\n",
              "\n",
              "    .dataframe thead th {\n",
              "        text-align: right;\n",
              "    }\n",
              "</style>\n",
              "<table border=\"1\" class=\"dataframe\">\n",
              "  <thead>\n",
              "    <tr style=\"text-align: right;\">\n",
              "      <th></th>\n",
              "      <th>Reviews</th>\n",
              "      <th>Feelings</th>\n",
              "      <th>Polarity</th>\n",
              "    </tr>\n",
              "  </thead>\n",
              "  <tbody>\n",
              "    <tr>\n",
              "      <th>0</th>\n",
              "      <td>জমে উঠেছে গ্রুপ বি এর খেলা।</td>\n",
              "      <td>excitement</td>\n",
              "      <td>positive</td>\n",
              "    </tr>\n",
              "    <tr>\n",
              "      <th>1</th>\n",
              "      <td>এখন খেলা হপ্পে, যে দল হারবে সেই দল বাদ পড়ে যাবে</td>\n",
              "      <td>excitement</td>\n",
              "      <td>neutral</td>\n",
              "    </tr>\n",
              "    <tr>\n",
              "      <th>2</th>\n",
              "      <td>সব কয়টা সমান</td>\n",
              "      <td>other</td>\n",
              "      <td>neutral</td>\n",
              "    </tr>\n",
              "    <tr>\n",
              "      <th>3</th>\n",
              "      <td>সোজা হিসাব যে হারবে সেই বাদ পরবে</td>\n",
              "      <td>sad</td>\n",
              "      <td>positive</td>\n",
              "    </tr>\n",
              "    <tr>\n",
              "      <th>4</th>\n",
              "      <td>হিসাব বরবর</td>\n",
              "      <td>other</td>\n",
              "      <td>neutral</td>\n",
              "    </tr>\n",
              "    <tr>\n",
              "      <th>...</th>\n",
              "      <td>...</td>\n",
              "      <td>...</td>\n",
              "      <td>...</td>\n",
              "    </tr>\n",
              "    <tr>\n",
              "      <th>4996</th>\n",
              "      <td>জাতীয় দলে এনে রানের ফোয়াড়া বন্ধ করার জন্য কতৃপ...</td>\n",
              "      <td>sad</td>\n",
              "      <td>positive</td>\n",
              "    </tr>\n",
              "    <tr>\n",
              "      <th>4997</th>\n",
              "      <td>যেমন বোলার তেমন ব্যাটসম্যান.....</td>\n",
              "      <td>happy</td>\n",
              "      <td>positive</td>\n",
              "    </tr>\n",
              "    <tr>\n",
              "      <th>4998</th>\n",
              "      <td>টেস্ট ও ওডিআই এর জন্য ঠিক আছে।</td>\n",
              "      <td>other</td>\n",
              "      <td>neutral</td>\n",
              "    </tr>\n",
              "    <tr>\n",
              "      <th>4999</th>\n",
              "      <td>রানের ফোয়ারা শুধু ঘরোয় পরিবেশেই সম্ভব</td>\n",
              "      <td>happy</td>\n",
              "      <td>negative</td>\n",
              "    </tr>\n",
              "    <tr>\n",
              "      <th>5000</th>\n",
              "      <td>NaN</td>\n",
              "      <td>NaN</td>\n",
              "      <td>NaN</td>\n",
              "    </tr>\n",
              "  </tbody>\n",
              "</table>\n",
              "<p>5001 rows × 3 columns</p>\n",
              "</div>\n",
              "      <button class=\"colab-df-convert\" onclick=\"convertToInteractive('df-a5d47bcb-e4f6-48d7-8525-f4ee51fb0979')\"\n",
              "              title=\"Convert this dataframe to an interactive table.\"\n",
              "              style=\"display:none;\">\n",
              "        \n",
              "  <svg xmlns=\"http://www.w3.org/2000/svg\" height=\"24px\"viewBox=\"0 0 24 24\"\n",
              "       width=\"24px\">\n",
              "    <path d=\"M0 0h24v24H0V0z\" fill=\"none\"/>\n",
              "    <path d=\"M18.56 5.44l.94 2.06.94-2.06 2.06-.94-2.06-.94-.94-2.06-.94 2.06-2.06.94zm-11 1L8.5 8.5l.94-2.06 2.06-.94-2.06-.94L8.5 2.5l-.94 2.06-2.06.94zm10 10l.94 2.06.94-2.06 2.06-.94-2.06-.94-.94-2.06-.94 2.06-2.06.94z\"/><path d=\"M17.41 7.96l-1.37-1.37c-.4-.4-.92-.59-1.43-.59-.52 0-1.04.2-1.43.59L10.3 9.45l-7.72 7.72c-.78.78-.78 2.05 0 2.83L4 21.41c.39.39.9.59 1.41.59.51 0 1.02-.2 1.41-.59l7.78-7.78 2.81-2.81c.8-.78.8-2.07 0-2.86zM5.41 20L4 18.59l7.72-7.72 1.47 1.35L5.41 20z\"/>\n",
              "  </svg>\n",
              "      </button>\n",
              "      \n",
              "  <style>\n",
              "    .colab-df-container {\n",
              "      display:flex;\n",
              "      flex-wrap:wrap;\n",
              "      gap: 12px;\n",
              "    }\n",
              "\n",
              "    .colab-df-convert {\n",
              "      background-color: #E8F0FE;\n",
              "      border: none;\n",
              "      border-radius: 50%;\n",
              "      cursor: pointer;\n",
              "      display: none;\n",
              "      fill: #1967D2;\n",
              "      height: 32px;\n",
              "      padding: 0 0 0 0;\n",
              "      width: 32px;\n",
              "    }\n",
              "\n",
              "    .colab-df-convert:hover {\n",
              "      background-color: #E2EBFA;\n",
              "      box-shadow: 0px 1px 2px rgba(60, 64, 67, 0.3), 0px 1px 3px 1px rgba(60, 64, 67, 0.15);\n",
              "      fill: #174EA6;\n",
              "    }\n",
              "\n",
              "    [theme=dark] .colab-df-convert {\n",
              "      background-color: #3B4455;\n",
              "      fill: #D2E3FC;\n",
              "    }\n",
              "\n",
              "    [theme=dark] .colab-df-convert:hover {\n",
              "      background-color: #434B5C;\n",
              "      box-shadow: 0px 1px 3px 1px rgba(0, 0, 0, 0.15);\n",
              "      filter: drop-shadow(0px 1px 2px rgba(0, 0, 0, 0.3));\n",
              "      fill: #FFFFFF;\n",
              "    }\n",
              "  </style>\n",
              "\n",
              "      <script>\n",
              "        const buttonEl =\n",
              "          document.querySelector('#df-a5d47bcb-e4f6-48d7-8525-f4ee51fb0979 button.colab-df-convert');\n",
              "        buttonEl.style.display =\n",
              "          google.colab.kernel.accessAllowed ? 'block' : 'none';\n",
              "\n",
              "        async function convertToInteractive(key) {\n",
              "          const element = document.querySelector('#df-a5d47bcb-e4f6-48d7-8525-f4ee51fb0979');\n",
              "          const dataTable =\n",
              "            await google.colab.kernel.invokeFunction('convertToInteractive',\n",
              "                                                     [key], {});\n",
              "          if (!dataTable) return;\n",
              "\n",
              "          const docLinkHtml = 'Like what you see? Visit the ' +\n",
              "            '<a target=\"_blank\" href=https://colab.research.google.com/notebooks/data_table.ipynb>data table notebook</a>'\n",
              "            + ' to learn more about interactive tables.';\n",
              "          element.innerHTML = '';\n",
              "          dataTable['output_type'] = 'display_data';\n",
              "          await google.colab.output.renderOutput(dataTable, element);\n",
              "          const docLink = document.createElement('div');\n",
              "          docLink.innerHTML = docLinkHtml;\n",
              "          element.appendChild(docLink);\n",
              "        }\n",
              "      </script>\n",
              "    </div>\n",
              "  </div>\n",
              "  "
            ]
          },
          "metadata": {},
          "execution_count": 8
        }
      ]
    },
    {
      "cell_type": "code",
      "source": [
        "data.shape"
      ],
      "metadata": {
        "colab": {
          "base_uri": "https://localhost:8080/"
        },
        "id": "qfSduEh6gOXA",
        "outputId": "692c5127-24d8-4b7d-8c6d-310369749a45"
      },
      "execution_count": 9,
      "outputs": [
        {
          "output_type": "execute_result",
          "data": {
            "text/plain": [
              "(5001, 3)"
            ]
          },
          "metadata": {},
          "execution_count": 9
        }
      ]
    },
    {
      "cell_type": "code",
      "source": [
        "print(\"Total reviews : \",len(data),\n",
        "\"\\nTotal Positive reviews : \",len(data[data.Polarity == 'positive']),\n",
        "\"\\nTotal Negative reviews : \",len(data[data.Polarity == 'negative']),\n",
        "\"\\nTotal Neutral reviews : \",len(data[data.Polarity == 'neutral']),\n",
        ")"
      ],
      "metadata": {
        "colab": {
          "base_uri": "https://localhost:8080/"
        },
        "id": "CwJHi-Bp-C7n",
        "outputId": "2af70a11-c1b3-44fa-e261-20656917b96a"
      },
      "execution_count": 10,
      "outputs": [
        {
          "output_type": "stream",
          "name": "stdout",
          "text": [
            "Total reviews :  5001 \n",
            "Total Positive reviews :  2617 \n",
            "Total Negative reviews :  1070 \n",
            "Total Neutral reviews :  1310\n"
          ]
        }
      ]
    },
    {
      "cell_type": "code",
      "source": [
        "print(\"Total reviews : \",len(data),\n",
        "\"\\nTotal number of Excitement from reviews : \",len(data[data.Feelings == 'excitement']),\n",
        "\"\\nTotal number of Sad from reviews : \",len(data[data.Feelings == 'sad']),\n",
        "\"\\nTotal number of Happy from reviews : \",len(data[data.Feelings == 'happy']),\n",
        "\"\\nTotal number of Disgust from reviews : \",len(data[data.Feelings == 'disgust']),\n",
        "\"\\nTotal number of Surprise from reviews : \",len(data[data.Feelings == 'surprise']),\n",
        "\"\\nTotal number of Fear from reviews : \",len(data[data.Feelings == 'fear']),\n",
        "\"\\nTotal number of Other from reviews : \",len(data[data.Feelings == 'other']),\n",
        ")"
      ],
      "metadata": {
        "colab": {
          "base_uri": "https://localhost:8080/"
        },
        "id": "w08XTtsbKDZ4",
        "outputId": "843a2d27-8a29-41e2-e121-52598bc7ee76"
      },
      "execution_count": 11,
      "outputs": [
        {
          "output_type": "stream",
          "name": "stdout",
          "text": [
            "Total reviews :  5001 \n",
            "Total number of Excitement from reviews :  303 \n",
            "Total number of Sad from reviews :  901 \n",
            "Total number of Happy from reviews :  1569 \n",
            "Total number of Disgust from reviews :  259 \n",
            "Total number of Surprise from reviews :  352 \n",
            "Total number of Fear from reviews :  13 \n",
            "Total number of Other from reviews :  1354\n"
          ]
        }
      ]
    },
    {
      "cell_type": "code",
      "source": [],
      "metadata": {
        "id": "fy0mhbXgbAtp"
      },
      "execution_count": null,
      "outputs": []
    },
    {
      "cell_type": "code",
      "source": [
        "import seaborn as sns\n",
        "import matplotlib.pyplot as plt\n",
        "sns.set(font_scale=1.4)\n",
        "data['Polarity'].value_counts().plot(kind='barh', figsize=(9, 3))\n",
        "plt.xlabel(\"Number of Texts\", labelpad=12)\n",
        "plt.ylabel(\"Polarity\", labelpad=12)\n",
        "plt.yticks(rotation = 45)\n",
        "plt.title(\"Dataset Distribution\", y=1.02);"
      ],
      "metadata": {
        "id": "fy2smvThYOGQ",
        "colab": {
          "base_uri": "https://localhost:8080/",
          "height": 272
        },
        "outputId": "67ad0738-78f9-40cd-d445-bbb81554699f"
      },
      "execution_count": 19,
      "outputs": [
        {
          "output_type": "display_data",
          "data": {
            "text/plain": [
              "<Figure size 648x216 with 1 Axes>"
            ],
            "image/png": "[encoded data removed]"
          },
          "metadata": {}
        }
      ]
    },
    {
      "cell_type": "code",
      "source": [
        "import seaborn as sns\n",
        "import matplotlib.pyplot as plt\n",
        "sns.set(font_scale=1.4)\n",
        "data['Feelings'].value_counts().plot(kind='barh', figsize=(9, 3))\n",
        "plt.xlabel(\"Number of Texts\", labelpad=12)\n",
        "plt.ylabel(\"Feelings\", labelpad=12)\n",
        "plt.yticks(rotation = 45)\n",
        "plt.title(\"Dataset Distribution\", y=1.02);"
      ],
      "metadata": {
        "colab": {
          "base_uri": "https://localhost:8080/",
          "height": 272
        },
        "id": "_N5FK5abY8d4",
        "outputId": "2372c7ed-e9c6-482f-97a7-b415e39173d2"
      },
      "execution_count": 14,
      "outputs": [
        {
          "output_type": "display_data",
          "data": {
            "text/plain": [
              "<Figure size 648x216 with 1 Axes>"
            ],
            "image/png": "[encoded data removed]"
          },
          "metadata": {}
        }
      ]
    },
    {
      "cell_type": "markdown",
      "source": [
        "Data Cleaning"
      ],
      "metadata": {
        "id": "6vIShSUujk8r"
      }
    },
    {
      "cell_type": "code",
      "source": [
        "import re,json,nltk\n",
        "def process_comments(Comment): \n",
        "    Comment = re.sub('[^\\u0980-\\u09FF]',' ',str(Comment)) #removing unnecessary punctuation\n",
        "    return Comment"
      ],
      "metadata": {
        "id": "s4VE0mIejoyJ"
      },
      "execution_count": 23,
      "outputs": []
    },
    {
      "cell_type": "code",
      "source": [
        "# Apply the function into the dataframe\n",
        "data['cleaned'] = data['Reviews'].apply(process_comments)  \n",
        "\n",
        "# print some cleaned reviews from the dataset\n",
        "sample_data = [10,100,25,854,966,1500,1589,1700,2000,2500,4000,4500]\n",
        "for i in sample_data:\n",
        "     print('Original:\\n',data.Reviews[i],'\\nCleaned:\\n',\n",
        "           data.cleaned[i],'\\n','Sentiment:-- ',data.Polarity[i],'\\n','Feelings : ',data.Feelings[i],'\\n')"
      ],
      "metadata": {
        "colab": {
          "base_uri": "https://localhost:8080/"
        },
        "id": "f3IvEwmHkUGj",
        "outputId": "6a9e4483-e23a-4fc2-e51f-79d43f2307bf"
      },
      "execution_count": 26,
      "outputs": [
        {
          "output_type": "stream",
          "name": "stdout",
          "text": [
            "Original:\n",
            " ভাগ্যিস টি-২০ নাইঃ- সোহান \n",
            "Cleaned:\n",
            " ভাগ্যিস টি ২০ নাইঃ  সোহান \n",
            " Sentiment:--  negative \n",
            " Feelings :  angry \n",
            "\n",
            "Original:\n",
            " এবারও বরিশালের হয়ে বিপিএল মাতাবেন সাকিব, গেইল \n",
            "Cleaned:\n",
            " এবারও বরিশালের হয়ে বিপিএল মাতাবেন সাকিব  গেইল \n",
            " Sentiment:--  positive \n",
            " Feelings :  surprise \n",
            "\n",
            "Original:\n",
            " আাসুক এইবার ভারত মিরপুর পিচ কি ও কত পকার তা বুজাইয়া দিবো। \n",
            "Cleaned:\n",
            " আাসুক এইবার ভারত মিরপুর পিচ কি ও কত পকার তা বুজাইয়া দিবো  \n",
            " Sentiment:--  positive \n",
            " Feelings :  happy \n",
            "\n",
            "Original:\n",
            " যানজট vhai \n",
            "Cleaned:\n",
            " যানজট      \n",
            " Sentiment:--  neutral \n",
            " Feelings :  other \n",
            "\n",
            "Original:\n",
            " এটা ডেথ গ্রুপ! \n",
            "Cleaned:\n",
            " এটা ডেথ গ্রুপ  \n",
            " Sentiment:--  neutral \n",
            " Feelings :  sad \n",
            "\n",
            "Original:\n",
            " সে হিরো যখন ম্যাচ জিতে কোন লাভ হয় না... দলের যখনই প্রয়োজন হয় তখনই সে শূন্যে আউট হয়.... প্রতিটি গুরুত্বপূর্ণ ম্যাচে \n",
            "Cleaned:\n",
            " সে হিরো যখন ম্যাচ জিতে কোন লাভ হয় না    দলের যখনই প্রয়োজন হয় তখনই সে শূন্যে আউট হয়     প্রতিটি গুরুত্বপূর্ণ ম্যাচে \n",
            " Sentiment:--  positive \n",
            " Feelings :  happy \n",
            "\n",
            "Original:\n",
            " কে তার সাথে ঝামেলা করেছে? আমি তার অনেক ভালো ম্যাচ জেতানো ইনিংস দেখেছি...শিরোনাম বিভ্রান্তিকর \n",
            "Cleaned:\n",
            " কে তার সাথে ঝামেলা করেছে  আমি তার অনেক ভালো ম্যাচ জেতানো ইনিংস দেখেছি   শিরোনাম বিভ্রান্তিকর \n",
            " Sentiment:--  neutral \n",
            " Feelings :  other \n",
            "\n",
            "Original:\n",
            " কেন সবসময় দক্ষিণ আফ্রিকার সাথে এমন হয়েছে, ভালো এবং শক্তিশালী দল বিশ্বকাপ তুলবে কিন্তু তারা এতটাই দুর্ভাগা \n",
            "Cleaned:\n",
            " কেন সবসময় দক্ষিণ আফ্রিকার সাথে এমন হয়েছে  ভালো এবং শক্তিশালী দল বিশ্বকাপ তুলবে কিন্তু তারা এতটাই দুর্ভাগা \n",
            " Sentiment:--  positive \n",
            " Feelings :  sad \n",
            "\n",
            "Original:\n",
            "   ভালোবাসা অবিরাম বন্ধু(GOAT) \n",
            "Cleaned:\n",
            "   ভালোবাসা অবিরাম বন্ধু       \n",
            " Sentiment:--  positive \n",
            " Feelings :  happy \n",
            "\n",
            "Original:\n",
            " টাকা কামানো আর নেতা হওয়ার লোভের কাছে  \n",
            "Cleaned:\n",
            " টাকা কামানো আর নেতা হওয়ার লোভের কাছে  \n",
            " Sentiment:--  neutral \n",
            " Feelings :  other \n",
            "\n",
            "Original:\n",
            " মাঠেই ক্ষেপলেন তামিম ইকবাল, আম্পায়ারের আউটের সিদ্ধান্তে চরম নাখোশ ওয়ানডে অধিনায়ক \n",
            "Cleaned:\n",
            " মাঠেই ক্ষেপলেন তামিম ইকবাল  আম্পায়ারের আউটের সিদ্ধান্তে চরম নাখোশ ওয়ানডে অধিনায়ক \n",
            " Sentiment:--  negative \n",
            " Feelings :  angry \n",
            "\n",
            "Original:\n",
            " নাঈম শেখ আসলে খুব ভাল একজন বেটার \n",
            "Cleaned:\n",
            " নাঈম শেখ আসলে খুব ভাল একজন বেটার \n",
            " Sentiment:--  positive \n",
            " Feelings :  happy \n",
            "\n"
          ]
        }
      ]
    },
    {
      "cell_type": "markdown",
      "source": [
        "Removing Low Length Data"
      ],
      "metadata": {
        "id": "2_w0Ln7Soh05"
      }
    },
    {
      "cell_type": "code",
      "source": [
        "# Length of each Reveiws\n",
        "data['length'] = data['cleaned'].apply(lambda x:len(x.split()))\n",
        "# Remove the reviews with least words\n",
        "dataset = data.loc[data.length>1]\n",
        "dataset = dataset.reset_index(drop = True)\n",
        "print(\"After Cleaning:\",\"\\nRemoved {} Small Reviews\".format(len(data)-len(dataset)),\n",
        "      \"\\nTotal Reviews:\",len(dataset))"
      ],
      "metadata": {
        "colab": {
          "base_uri": "https://localhost:8080/"
        },
        "id": "GIoGpvSOod8w",
        "outputId": "2c385e88-0dfb-4c7a-e6ad-ab0d085690ac"
      },
      "execution_count": 27,
      "outputs": [
        {
          "output_type": "stream",
          "name": "stdout",
          "text": [
            "After Cleaning: \n",
            "Removed 63 Small Reviews \n",
            "Total Reviews: 4938\n"
          ]
        }
      ]
    },
    {
      "cell_type": "markdown",
      "source": [
        "Daraset Summary"
      ],
      "metadata": {
        "id": "_cmQeK_wpXUq"
      }
    },
    {
      "cell_type": "code",
      "source": [
        "import numpy as np\n",
        "def data_summary(dataset):\n",
        "    \n",
        "    \"\"\"\n",
        "    This function will print the summary of the reviews and words distribution in the dataset. \n",
        "    \n",
        "    Args:\n",
        "        dataset: list of cleaned sentences   \n",
        "        \n",
        "    Returns:\n",
        "        Number of documnets per class: int \n",
        "        Number of words per class: int\n",
        "        Number of unique words per class: int\n",
        "    \"\"\"\n",
        "    documents = []\n",
        "    words = []\n",
        "    u_words = []\n",
        "    total_u_words = [word.strip().lower() for t in list(dataset.cleaned) for word in t.strip().split()]\n",
        "    class_label= [k for k,v in dataset.Polarity.value_counts().to_dict().items()]\n",
        "  # find word list\n",
        "    for label in class_label: \n",
        "        word_list = [word.strip().lower() for t in list(dataset[dataset.Polarity==label].cleaned) for word in t.strip().split()]\n",
        "        counts = dict()\n",
        "        for word in word_list:\n",
        "                counts[word] = counts.get(word, 0)+1\n",
        "        # sort the dictionary of word list  \n",
        "        ordered = sorted(counts.items(), key= lambda item: item[1],reverse = True)\n",
        "        # Documents per class\n",
        "        documents.append(len(list(dataset[dataset.Polarity==label].cleaned)))\n",
        "        # Total Word per class\n",
        "        words.append(len(word_list))\n",
        "        # Unique words per class \n",
        "        u_words.append(len(np.unique(word_list)))\n",
        "       \n",
        "        print(\"\\nClass Name : \",label)\n",
        "        print(\"Number of Documents:{}\".format(len(list(dataset[dataset.Polarity==label].cleaned))))  \n",
        "        print(\"Number of Words:{}\".format(len(word_list))) \n",
        "        print(\"Number of Unique Words:{}\".format(len(np.unique(word_list)))) \n",
        "        print(\"Most Frequent Words:\\n\")\n",
        "        for k,v in ordered[:10]:\n",
        "              print(\"{}\\t{}\".format(k,v))\n",
        "    print(\"Total Number of Unique Words:{}\".format(len(np.unique(total_u_words))))           \n",
        "   \n",
        "    return documents,words,u_words,class_label\n",
        "\n",
        "#call the fucntion\n",
        "documents,words,u_words,class_names = data_summary(dataset)"
      ],
      "metadata": {
        "colab": {
          "base_uri": "https://localhost:8080/"
        },
        "id": "9em9zskvpb4o",
        "outputId": "91fed731-9612-4923-9c18-8f8c7c24bc1e"
      },
      "execution_count": 28,
      "outputs": [
        {
          "output_type": "stream",
          "name": "stdout",
          "text": [
            "\n",
            "Class Name :  positive\n",
            "Number of Documents:2582\n",
            "Number of Words:25594\n",
            "Number of Unique Words:5408\n",
            "Most Frequent Words:\n",
            "\n",
            "জন্য\t285\n",
            "বাংলাদেশ\t261\n",
            "না\t252\n",
            "ভালো\t249\n",
            "ক্রিকেট\t191\n",
            "ভাই\t184\n",
            "এবং\t159\n",
            "অনেক\t156\n",
            "করে\t155\n",
            "এই\t152\n",
            "\n",
            "Class Name :  neutral\n",
            "Number of Documents:1291\n",
            "Number of Words:12565\n",
            "Number of Unique Words:4320\n",
            "Most Frequent Words:\n",
            "\n",
            "না\t230\n",
            "করে\t117\n",
            "আর\t102\n",
            "কি\t94\n",
            "আপনার\t81\n",
            "কে\t79\n",
            "আপনি\t79\n",
            "এই\t71\n",
            "হবে\t71\n",
            "থেকে\t68\n",
            "\n",
            "Class Name :  negative\n",
            "Number of Documents:1065\n",
            "Number of Words:10186\n",
            "Number of Unique Words:3358\n",
            "Most Frequent Words:\n",
            "\n",
            "না\t194\n",
            "শান্ত\t111\n",
            "আর\t100\n",
            "কি\t79\n",
            "করে\t79\n",
            "বাংলাদেশ\t77\n",
            "এই\t71\n",
            "সব\t60\n",
            "কে\t59\n",
            "দলে\t57\n",
            "Total Number of Unique Words:8873\n"
          ]
        }
      ]
    },
    {
      "cell_type": "markdown",
      "source": [
        "Dataset Summary Visualization"
      ],
      "metadata": {
        "id": "GjnWFYjrqyWZ"
      }
    },
    {
      "cell_type": "code",
      "source": [
        "data_matrix = pd.DataFrame({'Total Documents':documents,\n",
        "                            'Total Words':words,\n",
        "                            'Unique Words':u_words,\n",
        "                            'Class Names':class_names})\n",
        "df = pd.melt(data_matrix, id_vars=\"Class Names\", var_name=\"Category\", value_name=\"Values\")\n",
        "plt.figure(figsize=(6, 4))\n",
        "ax = plt.subplot()\n",
        "\n",
        "sns.barplot(data=df,x='Class Names', y='Values' ,hue='Category')\n",
        "ax.set_xlabel('Class Names') \n",
        "ax.set_title('Data Statistics')\n",
        "\n",
        "ax.xaxis.set_ticklabels(class_names, rotation=45);"
      ],
      "metadata": {
        "colab": {
          "base_uri": "https://localhost:8080/",
          "height": 358
        },
        "id": "P14qt5Ouq2SR",
        "outputId": "ac8a55fb-e2c0-472e-bfe3-4132c18bc0c2"
      },
      "execution_count": 29,
      "outputs": [
        {
          "output_type": "display_data",
          "data": {
            "text/plain": [
              "<Figure size 432x288 with 1 Axes>"
            ],
            "image/png": "[encoded data removed]"
          },
          "metadata": {}
        }
      ]
    },
    {
      "cell_type": "markdown",
      "source": [
        "Dataset Summary for Feelings"
      ],
      "metadata": {
        "id": "Msx_K2hFr3uC"
      }
    },
    {
      "cell_type": "code",
      "source": [
        "import numpy as np\n",
        "def data_summary(dataset):\n",
        "    \n",
        "    \"\"\"\n",
        "    This function will print the summary of the reviews and words distribution in the dataset. \n",
        "    \n",
        "    Args:\n",
        "        dataset: list of cleaned sentences   \n",
        "        \n",
        "    Returns:\n",
        "        Number of documnets per class: int \n",
        "        Number of words per class: int\n",
        "        Number of unique words per class: int\n",
        "    \"\"\"\n",
        "    documents = []\n",
        "    words = []\n",
        "    u_words = []\n",
        "    total_u_words = [word.strip().lower() for t in list(dataset.cleaned) for word in t.strip().split()]\n",
        "    class_label= [k for k,v in dataset.Feelings.value_counts().to_dict().items()]\n",
        "  # find word list\n",
        "    for label in class_label: \n",
        "        word_list = [word.strip().lower() for t in list(dataset[dataset.Feelings==label].cleaned) for word in t.strip().split()]\n",
        "        counts = dict()\n",
        "        for word in word_list:\n",
        "                counts[word] = counts.get(word, 0)+1\n",
        "        # sort the dictionary of word list  \n",
        "        ordered = sorted(counts.items(), key= lambda item: item[1],reverse = True)\n",
        "        # Documents per class\n",
        "        documents.append(len(list(dataset[dataset.Feelings==label].cleaned)))\n",
        "        # Total Word per class\n",
        "        words.append(len(word_list))\n",
        "        # Unique words per class \n",
        "        u_words.append(len(np.unique(word_list)))\n",
        "       \n",
        "        print(\"\\nClass Name : \",label)\n",
        "        print(\"Number of Documents:{}\".format(len(list(dataset[dataset.Feelings==label].cleaned))))  \n",
        "        print(\"Number of Words:{}\".format(len(word_list))) \n",
        "        print(\"Number of Unique Words:{}\".format(len(np.unique(word_list)))) \n",
        "        print(\"Most Frequent Words:\\n\")\n",
        "        for k,v in ordered[:10]:\n",
        "              print(\"{}\\t{}\".format(k,v))\n",
        "    print(\"Total Number of Unique Words:{}\".format(len(np.unique(total_u_words))))           \n",
        "   \n",
        "    return documents,words,u_words,class_label\n",
        "\n",
        "#call the fucntion\n",
        "documents,words,u_words,class_names = data_summary(dataset)"
      ],
      "metadata": {
        "colab": {
          "base_uri": "https://localhost:8080/"
        },
        "id": "PAgyI9csr8v3",
        "outputId": "5f6ea2ba-d92c-4367-dbc9-9814fb9daa68"
      },
      "execution_count": 31,
      "outputs": [
        {
          "output_type": "stream",
          "name": "stdout",
          "text": [
            "\n",
            "Class Name :  happy\n",
            "Number of Documents:1538\n",
            "Number of Words:14114\n",
            "Number of Unique Words:3577\n",
            "Most Frequent Words:\n",
            "\n",
            "জন্য\t220\n",
            "ভালো\t192\n",
            "বাংলাদেশ\t173\n",
            "ভাই\t118\n",
            "ক্রিকেট\t108\n",
            "অনেক\t104\n",
            "এবং\t103\n",
            "না\t102\n",
            "আপনার\t96\n",
            "শুভকামনা\t93\n",
            "\n",
            "Class Name :  other\n",
            "Number of Documents:1335\n",
            "Number of Words:13237\n",
            "Number of Unique Words:4416\n",
            "Most Frequent Words:\n",
            "\n",
            "না\t240\n",
            "করে\t130\n",
            "আর\t106\n",
            "কি\t98\n",
            "কে\t91\n",
            "আপনার\t85\n",
            "হবে\t83\n",
            "এই\t79\n",
            "আপনি\t79\n",
            "ভালো\t71\n",
            "\n",
            "Class Name :  sad\n",
            "Number of Documents:898\n",
            "Number of Words:9764\n",
            "Number of Unique Words:3073\n",
            "Most Frequent Words:\n",
            "\n",
            "না\t211\n",
            "আর\t89\n",
            "এই\t78\n",
            "করে\t77\n",
            "বাংলাদেশ\t75\n",
            "জন্য\t71\n",
            "ভালো\t70\n",
            "নাই\t60\n",
            "ক্রিকেট\t60\n",
            "থেকে\t52\n",
            "\n",
            "Class Name :  surprise\n",
            "Number of Documents:350\n",
            "Number of Words:2949\n",
            "Number of Unique Words:1407\n",
            "Most Frequent Words:\n",
            "\n",
            "বাংলাদেশ\t24\n",
            "হবে\t23\n",
            "শান্ত\t23\n",
            "আমি\t22\n",
            "নান্নু\t21\n",
            "দল\t19\n",
            "ও\t18\n",
            "না\t18\n",
            "থেকে\t16\n",
            "করে\t16\n",
            "\n",
            "Class Name :  excitement\n",
            "Number of Documents:303\n",
            "Number of Words:2839\n",
            "Number of Unique Words:1328\n",
            "Most Frequent Words:\n",
            "\n",
            "বাংলাদেশ\t49\n",
            "ক্রিকেট\t28\n",
            "আমি\t23\n",
            "ম্যাচ\t22\n",
            "হবে\t22\n",
            "এবং\t20\n",
            "না\t19\n",
            "বাংলাদেশের\t18\n",
            "আপনার\t18\n",
            "ও\t17\n",
            "\n",
            "Class Name :  disgust\n",
            "Number of Documents:256\n",
            "Number of Words:2268\n",
            "Number of Unique Words:1149\n",
            "Most Frequent Words:\n",
            "\n",
            "শান্ত\t42\n",
            "না\t40\n",
            "লর্ড\t33\n",
            "সব\t32\n",
            "আর\t28\n",
            "কি\t26\n",
            "নান্নু\t19\n",
            "করে\t16\n",
            "কে\t15\n",
            "দেখতে\t14\n",
            "\n",
            "Class Name :  angry\n",
            "Number of Documents:246\n",
            "Number of Words:3109\n",
            "Number of Unique Words:1476\n",
            "Most Frequent Words:\n",
            "\n",
            "না\t46\n",
            "আর\t37\n",
            "কি\t28\n",
            "করে\t27\n",
            "এই\t23\n",
            "ক্রিকেট\t21\n",
            "থেকে\t20\n",
            "দল\t17\n",
            "দেশের\t17\n",
            "আপনি\t16\n",
            "\n",
            "Class Name :  fear\n",
            "Number of Documents:12\n",
            "Number of Words:65\n",
            "Number of Unique Words:59\n",
            "Most Frequent Words:\n",
            "\n",
            "সাকিব\t5\n",
            "নাই\t2\n",
            "ভাই\t2\n",
            "তে\t1\n",
            "বাংলাদেশ\t1\n",
            "যথেষ্ট\t1\n",
            "ভালো\t1\n",
            "এ\t1\n",
            "বিষয়ে\t1\n",
            "সন্দেহ\t1\n",
            "Total Number of Unique Words:8873\n"
          ]
        }
      ]
    },
    {
      "cell_type": "markdown",
      "source": [
        "Dataset Summary Visualization for Feelings"
      ],
      "metadata": {
        "id": "7ypm-Cfgsu9A"
      }
    },
    {
      "cell_type": "code",
      "source": [
        "data_matrix = pd.DataFrame({'Total Documents':documents,\n",
        "                            'Total Words':words,\n",
        "                            'Unique Words':u_words,\n",
        "                            'Feelings Names':class_names})\n",
        "df = pd.melt(data_matrix, id_vars=\"Feelings Names\", var_name=\"Category\", value_name=\"Values\")\n",
        "plt.figure(figsize=(6, 4))\n",
        "ax = plt.subplot()\n",
        "\n",
        "sns.barplot(data=df,x='Feelings Names', y='Values' ,hue='Category')\n",
        "ax.set_xlabel('Feelings Names') \n",
        "ax.set_title('Data Statistics')\n",
        "\n",
        "ax.xaxis.set_ticklabels(class_names, rotation=45);"
      ],
      "metadata": {
        "colab": {
          "base_uri": "https://localhost:8080/",
          "height": 372
        },
        "id": "NhaQHHJVsz5w",
        "outputId": "806289aa-1b59-44cf-bb5d-7d870143907b"
      },
      "execution_count": 34,
      "outputs": [
        {
          "output_type": "display_data",
          "data": {
            "text/plain": [
              "<Figure size 432x288 with 1 Axes>"
            ],
            "image/png": "[encoded data removed]"
          },
          "metadata": {}
        }
      ]
    },
    {
      "cell_type": "markdown",
      "source": [
        "Comment Length Distribution"
      ],
      "metadata": {
        "id": "gc53mYSIt1cC"
      }
    },
    {
      "cell_type": "code",
      "source": [
        "# Calculate the Review of each of the Review\n",
        "dataset['ReviewLength'] = dataset.cleaned.apply(lambda x:len(x.split()))\n",
        "frequency = dict()\n",
        "for i in dataset.ReviewLength:\n",
        "    frequency[i] = frequency.get(i, 0)+1\n",
        "\n",
        "plt.bar(frequency.keys(), frequency.values(), color =\"b\")\n",
        "plt.xlim(1, 135)\n",
        "# in this notbook color is not working but it should work.\n",
        "plt.xlabel('Lenght of the Texts')\n",
        "plt.ylabel('Frequency')\n",
        "plt.title('Length-Frequency Distribution')\n",
        "plt.show()  \n",
        "print(f\"Maximum Length of a review: {max(dataset.ReviewLength)}\")\n",
        "print(f\"Minimum Length of a review: {min(dataset.ReviewLength)}\")\n",
        "print(f\"Average Length of a reviews: {round(np.mean(dataset.ReviewLength),0)}\")"
      ],
      "metadata": {
        "colab": {
          "base_uri": "https://localhost:8080/",
          "height": 367
        },
        "id": "WEkS4UrLudej",
        "outputId": "8bb01f5e-03d6-48fd-eda3-7813b3b33353"
      },
      "execution_count": 35,
      "outputs": [
        {
          "output_type": "display_data",
          "data": {
            "text/plain": [
              "<Figure size 432x288 with 1 Axes>"
            ],
            "image/png": "[encoded data removed]"
          },
          "metadata": {}
        },
        {
          "output_type": "stream",
          "name": "stdout",
          "text": [
            "Maximum Length of a review: 39\n",
            "Minimum Length of a review: 2\n",
            "Average Length of a reviews: 10.0\n"
          ]
        }
      ]
    },
    {
      "cell_type": "markdown",
      "source": [
        "Take only Positive and Negative Class for Model Building"
      ],
      "metadata": {
        "id": "Y-UCJfJGwU44"
      }
    }
  ]
}